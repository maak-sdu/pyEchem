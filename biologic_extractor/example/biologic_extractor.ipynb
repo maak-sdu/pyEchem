{
 "cells": [
  {
   "attachments": {},
   "cell_type": "markdown",
   "metadata": {},
   "source": [
    "Imports."
   ]
  },
  {
   "cell_type": "code",
   "execution_count": 10,
   "metadata": {},
   "outputs": [],
   "source": [
    "import sys\n",
    "import warnings\n",
    "from pathlib import Path\n",
    "import numpy as np\n",
    "import pandas as pd"
   ]
  },
  {
   "cell_type": "code",
   "execution_count": 11,
   "metadata": {},
   "outputs": [],
   "source": [
    "D_ECHEM_LABELS = dict(time=\"time/s\", \n",
    "                      voltage=\"Ewe/V\",\n",
    "                      current=\"<I>/mA\",\n",
    "                      x=\"x\",\n",
    "                      capacity=\"Capacity/mA.h\",\n",
    "                      cycle_number=\"cycle number\",\n",
    "                      )"
   ]
  },
  {
   "attachments": {},
   "cell_type": "markdown",
   "metadata": {},
   "source": [
    "Ignore UserWarnings in case `sys.exit()` is encountered."
   ]
  },
  {
   "cell_type": "code",
   "execution_count": 12,
   "metadata": {},
   "outputs": [],
   "source": [
    "warnings.filterwarnings(\"ignore\", category=UserWarning)"
   ]
  },
  {
   "attachments": {},
   "cell_type": "markdown",
   "metadata": {},
   "source": [
    "Checking whether a folder called `data` exists."
   ]
  },
  {
   "cell_type": "code",
   "execution_count": 13,
   "metadata": {},
   "outputs": [],
   "source": [
    "data_path = Path.cwd() / \"data\"\n",
    "if not data_path.exists():\n",
    "    data_path.mkdir()\n",
    "    s = f\"\\n{80*'-'}\\nA folder called '{data_path.name}' has been created.\"\n",
    "    s += f\"\\nPlease put your data files there and rerun the code.\\n{80*'-'}\"\n",
    "    sys.exit(s)"
   ]
  },
  {
   "attachments": {},
   "cell_type": "markdown",
   "metadata": {},
   "source": [
    "Checking that data files are present in the `data` folder."
   ]
  },
  {
   "cell_type": "code",
   "execution_count": 14,
   "metadata": {},
   "outputs": [],
   "source": [
    "data_files = list(data_path.glob(\"*.*\"))\n",
    "if len(data_files) == 0:\n",
    "    s = f\"\\n{80*'-'}\\nNo files were found in the '{data_path.name}' folder.\\n\"\n",
    "    s += f\"Please put your data files there and rerun the code.\\n{80*'-'}\"\n",
    "    sys.exit(s)"
   ]
  },
  {
   "cell_type": "code",
   "execution_count": 15,
   "metadata": {},
   "outputs": [],
   "source": [
    "def get_header(file):\n",
    "    with file.open(mode=\"r\") as f:\n",
    "        lines = f.readlines()\n",
    "    if \"EC-Lab\" in lines[0]:\n",
    "        header_idx = int(lines[1].split()[-1]) - 1\n",
    "    else:\n",
    "        header_idx = 0\n",
    "    \n",
    "    return lines[header_idx].split(), header_idx"
   ]
  },
  {
   "cell_type": "code",
   "execution_count": 16,
   "metadata": {},
   "outputs": [],
   "source": [
    "def write(df, d, filename, output_path):\n",
    "    time = df[d[\"time\"]].to_numpy()\n",
    "    time = (time - time[0]) / 60\n",
    "    current = df[d[\"current\"]].to_numpy() * 10**-3\n",
    "    voltage, x = df[d[\"voltage\"]].to_numpy(), df[\"x\"].to_numpy()\n",
    "    header = \"t [h]\\tV [V]\\ti [A]\\tx\"\n",
    "    np.savetxt(output_path / filename,\n",
    "               np.column_stack((time, voltage, current, x)),\n",
    "               delimiter=\"\\t\",\n",
    "               header=header,\n",
    "               fmt=\"%.8f\",\n",
    "               encoding=\"utf8\",\n",
    "               )\n",
    "    \n",
    "    return None"
   ]
  },
  {
   "cell_type": "code",
   "execution_count": 17,
   "metadata": {},
   "outputs": [],
   "source": [
    "txt_path = Path.cwd() / \"txt\"\n",
    "if not txt_path.exists():\n",
    "    txt_path.mkdir()"
   ]
  },
  {
   "cell_type": "code",
   "execution_count": 18,
   "metadata": {},
   "outputs": [
    {
     "name": "stdout",
     "output_type": "stream",
     "text": [
      "--------------------------------------------------------------------------------\n",
      "Quantities and labels to look for in data file(s):\n",
      "\ttime\t\ttime/s\n",
      "\tvoltage\t\tEwe/V\n",
      "\tcurrent\t\t<I>/mA\n",
      "\tx\t\tx\n",
      "\tcapacity\tCapacity/mA.h\n",
      "\tcycle_number\tcycle number\n",
      "--------------------------------------------------------------------------------\n",
      "If other quantities and/or keys a desired, please edit in the top of this .ipynb\n",
      "file.\n",
      "--------------------------------------------------------------------------------\n",
      "Extracting data from files...\n",
      "\t02_BIOLOGIC_Na07Fe033Mn067O2-Na_6dot29.txt\n"
     ]
    },
    {
     "name": "stdout",
     "output_type": "stream",
     "text": [
      "\t03_BIOLOGIC_Na07Fe033Mn067O2-Na_6dot29_header.txt\n",
      "Done extracting data from files. Please see the 'txt folder.\n",
      "--------------------------------------------------------------------------------\n"
     ]
    }
   ],
   "source": [
    "print(f\"{80*'-'}\\nQuantities and labels to look for in data file(s):\")\n",
    "for k, v in D_ECHEM_LABELS.items():\n",
    "    if len(k) < 8:\n",
    "        print(f\"\\t{k}\\t\\t{v}\")\n",
    "    else:\n",
    "        print(f\"\\t{k}\\t{v}\")\n",
    "print(f\"{80*'-'}\\nIf other quantities and/or keys a desired, please edit in the \"\n",
    "      f\"top of this .ipynb\\nfile.\\n{80*'-'}\\nExtracting data from files...\")\n",
    "for file in data_files:\n",
    "    print(f\"\\t{file.name}\")\n",
    "    header, header_idx = get_header(file)\n",
    "    df = pd.read_csv(file, \n",
    "                     skiprows=header_idx, \n",
    "                     delimiter=\"\\t\", \n",
    "                     decimal=\",\",\n",
    "                     )\n",
    "    for k in df.keys():\n",
    "        if \"Unnamed\" in k:\n",
    "            df.pop(k)\n",
    "    write(df, D_ECHEM_LABELS, file.name, txt_path)\n",
    "print(f\"Done extracting data from files. Please see the '{txt_path.name} \"\n",
    "      f\"folder.\\n{80*'-'}\")"
   ]
  }
 ],
 "metadata": {
  "kernelspec": {
   "display_name": "py311",
   "language": "python",
   "name": "python3"
  },
  "language_info": {
   "codemirror_mode": {
    "name": "ipython",
    "version": 3
   },
   "file_extension": ".py",
   "mimetype": "text/x-python",
   "name": "python",
   "nbconvert_exporter": "python",
   "pygments_lexer": "ipython3",
   "version": "3.11.5"
  },
  "orig_nbformat": 4
 },
 "nbformat": 4,
 "nbformat_minor": 2
}
