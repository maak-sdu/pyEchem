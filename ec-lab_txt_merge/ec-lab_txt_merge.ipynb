{
 "cells": [
  {
   "cell_type": "markdown",
   "metadata": {},
   "source": [
    "Martin Aaskov Karlsen  \n",
    "Postdoc  \n",
    "Ravnsbæk Group  \n",
    "Aarhus University  \n",
    "November 2023  \n",
    "\n",
    "# Merging .txt files\n",
    "\n",
    "This code is written with the aim of mering .txt files containing data exported\n",
    "from the EC-Lab software, accompanying Biologic Potentiostats."
   ]
  },
  {
   "cell_type": "markdown",
   "metadata": {},
   "source": [
    "Imports"
   ]
  },
  {
   "cell_type": "code",
   "execution_count": 1,
   "metadata": {},
   "outputs": [],
   "source": [
    "import sys\n",
    "from pathlib import Path\n",
    "from io import StringIO\n",
    "import pandas as pd"
   ]
  },
  {
   "cell_type": "markdown",
   "metadata": {},
   "source": [
    "Getting .txt files to merge."
   ]
  },
  {
   "cell_type": "code",
   "execution_count": 2,
   "metadata": {},
   "outputs": [],
   "source": [
    "txt_input_path = Path.cwd() / \"txt_input\"\n",
    "if not txt_input_path.exists():\n",
    "    txt_input_path.mkdir()\n",
    "    sys.exit(f\"\\n{80*'-'}\\nA folder called '{txt_input_path.name}' has been \"\n",
    "             f\"created.\\nPlease put your input .txt files there and rerun the \"\n",
    "             f\"cell.\\n{80*'-'}\")\n",
    "txt_input_files = list(txt_input_path.glob(\"*.txt\"))\n",
    "if len(txt_input_files) == 0:\n",
    "    sys.exit(f\"\\n{80*'-'}\\nNo .txt files were found in the \"\n",
    "             f\"'{txt_input_path.name}' folder.\\nPlease put your input .txt \"\n",
    "             f\"files there and rerun the cell.\\n{80*'-'}\")"
   ]
  },
  {
   "cell_type": "markdown",
   "metadata": {},
   "source": [
    "Setting up outputname. If adequate, please set up the output name manually by \n",
    "editing the `outputname` variable in the cell below."
   ]
  },
  {
   "cell_type": "code",
   "execution_count": 3,
   "metadata": {},
   "outputs": [
    {
     "name": "stdout",
     "output_type": "stream",
     "text": [
      "--------------------------------------------------------------------------------\n",
      "output name: 20231005_JKV_GAL_02_31_0002_GCPL_C11.txt\n",
      "--------------------------------------------------------------------------------\n"
     ]
    }
   ],
   "source": [
    "txt = txt_input_files[0]\n",
    "name_split = txt.stem.split(\"_\")\n",
    "outputname = f\"{'_'.join(name_split[0:6] + name_split[7:])}{txt.suffix}\"\n",
    "print(f\"{80*'-'}\\noutput name: {outputname}\\n{80*'-'}\")"
   ]
  },
  {
   "cell_type": "markdown",
   "metadata": {},
   "source": [
    "Merging .txt files."
   ]
  },
  {
   "cell_type": "code",
   "execution_count": 4,
   "metadata": {},
   "outputs": [
    {
     "name": "stdout",
     "output_type": "stream",
     "text": [
      "--------------------------------------------------------------------------------\n",
      "Merging .txt files...\n",
      "\t20231005_JKV_GAL_02_31_0002_01_GCPL_C11.txt\n",
      "\t20231005_JKV_GAL_02_31_0002_02_GCPL_C11.txt\n",
      "\t20231005_JKV_GAL_02_31_0002_03_GCPL_C11.txt\n",
      "\t20231005_JKV_GAL_02_31_0002_04_GCPL_C11.txt\n",
      "\t20231005_JKV_GAL_02_31_0002_05_GCPL_C11.txt\n",
      "\t20231005_JKV_GAL_02_31_0002_06_GCPL_C11.txt\n",
      "\t20231005_JKV_GAL_02_31_0002_07_GCPL_C11.txt\n",
      "\t20231005_JKV_GAL_02_31_0002_08_GCPL_C11.txt\n",
      "\t20231005_JKV_GAL_02_31_0002_09_GCPL_C11.txt\n",
      "\t20231005_JKV_GAL_02_31_0002_10_GCPL_C11.txt\n",
      "\t20231005_JKV_GAL_02_31_0002_11_GCPL_C11.txt\n",
      "\t20231005_JKV_GAL_02_31_0002_12_GCPL_C11.txt\n",
      "\t20231005_JKV_GAL_02_31_0002_13_GCPL_C11.txt\n",
      "Done. Please see the\n",
      "\t20231005_JKV_GAL_02_31_0002_GCPL_C11.txt\n",
      "file in the 'txt_output' folder.\n",
      "--------------------------------------------------------------------------------\n"
     ]
    }
   ],
   "source": [
    "print(f\"{80*'-'}\\nMerging .txt files...\")\n",
    "for i, txt in enumerate(txt_input_files):\n",
    "    print(f\"\\t{txt.name}\")\n",
    "    with txt.open(\"r\") as f:\n",
    "        s = f.read().replace(\",\", \".\")\n",
    "    if i == 0:\n",
    "        name_split = txt.stem.split(\"_\")\n",
    "        outputname = f\"{'_'.join(name_split[0:6] + name_split[7:])}{txt.suffix}\"\n",
    "        df_all = pd.read_csv(StringIO(s), delimiter=\"\\t\")\n",
    "    else:\n",
    "        df_all = pd.concat((df_all, pd.read_csv(StringIO(s), delimiter=\"\\t\")))\n",
    "txt_output_path = Path.cwd() / \"txt_output\"\n",
    "if not txt_output_path.exists():\n",
    "    txt_output_path.mkdir()\n",
    "df_all.to_csv(txt_output_path / outputname, sep=\"\\t\", index=False)\n",
    "print(f\"Done. Please see the\\n\\t{outputname}\\nfile in the \"\n",
    "      f\"'{txt_output_path.name}' folder.\\n{80*'-'}\")"
   ]
  }
 ],
 "metadata": {
  "kernelspec": {
   "display_name": "py312",
   "language": "python",
   "name": "python3"
  },
  "language_info": {
   "codemirror_mode": {
    "name": "ipython",
    "version": 3
   },
   "file_extension": ".py",
   "mimetype": "text/x-python",
   "name": "python",
   "nbconvert_exporter": "python",
   "pygments_lexer": "ipython3",
   "version": "3.12.0"
  }
 },
 "nbformat": 4,
 "nbformat_minor": 2
}
