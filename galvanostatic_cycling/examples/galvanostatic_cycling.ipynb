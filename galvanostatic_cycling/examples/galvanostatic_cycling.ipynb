{
 "cells": [
  {
   "cell_type": "markdown",
   "id": "8234d19b-50fa-4556-bb3a-d3dd9ddfa88e",
   "metadata": {},
   "source": [
    "# galvanostatic_cycling"
   ]
  },
  {
   "cell_type": "markdown",
   "id": "443e2afc-f253-45b8-ba2b-cdde3a26e3fa",
   "metadata": {},
   "source": [
    "## Imports"
   ]
  },
  {
   "cell_type": "code",
   "execution_count": 39,
   "id": "8c6efebc-3fd9-4524-b4c2-b2bc9e48fe40",
   "metadata": {},
   "outputs": [],
   "source": [
    "import sys\n",
    "from pathlib import Path\n",
    "import re\n",
    "from datetime import datetime\n",
    "import numpy as np\n",
    "import pandas as pd\n",
    "from scipy.constants import physical_constants\n",
    "import matplotlib.pyplot as plt\n",
    "from matplotlib.colors import LinearSegmentedColormap, ListedColormap\n",
    "from matplotlib.cm import get_cmap\n",
    "from bg_mpl_stylesheet.bg_mpl_stylesheet import bg_mpl_style\n",
    "import quantities\n",
    "from molmass import Formula"
   ]
  },
  {
   "cell_type": "markdown",
   "id": "dbe8aba8-69f0-44b8-a2e0-b7e8e5298ad4",
   "metadata": {},
   "source": [
    "## User inputs"
   ]
  },
  {
   "cell_type": "markdown",
   "id": "42a13b8f-79bd-46ca-958e-94e40de7bd4d",
   "metadata": {},
   "source": [
    "### Plot settings"
   ]
  },
  {
   "cell_type": "code",
   "execution_count": 40,
   "id": "e67f71cd-2c4c-4f13-a37e-f7e71e5989b0",
   "metadata": {},
   "outputs": [],
   "source": [
    "D_PLOT = dict(dpi = 600,\n",
    "              figsize = (12,4),\n",
    "              fontsize_labels=20,\n",
    "              fontsize_ticks=14,\n",
    "              t_std_label=\"$t\\;[\\mathrm{h}]$\",\n",
    "              x_std_label=\"$x$\",\n",
    "              cap_std_label=\"$Q\\;[\\mathrm{mAh/g}]$\",\n",
    "              cycle_std_label=\"$\\mathrm{cycle}$\",\n",
    "              ce_std_label=\"$CE$\",\n",
    "              )"
   ]
  },
  {
   "cell_type": "markdown",
   "id": "ecf7e619-bc8f-49fb-927c-f8347454da9c",
   "metadata": {},
   "source": [
    "### Working electrode potential labels"
   ]
  },
  {
   "cell_type": "code",
   "execution_count": 41,
   "id": "2fec86fb-f676-4425-8867-da223a7137d6",
   "metadata": {},
   "outputs": [],
   "source": [
    "D_EWE_LABEL = dict(Li=\"$E_{\\mathrm{we}}\\;\\mathrm{vs.\\;Li/Li^{+}\\;[V]}$\",\n",
    "                   Na=\"$E_{\\mathrm{we}}\\;\\mathrm{vs.\\;Na/Na^{+}\\;[V]}$\",\n",
    "                   Mg=\"$E_{\\mathrm{we}}\\;\\mathrm{vs.\\;Mg/Mg^{2+}\\;[V]}$\",\n",
    "                   NMC=\"$E_{\\mathrm{we}}\\;\\mathrm{vs.\\;NMC\\;[V]}$\",\n",
    "                   LTO=\"$E_{\\mathrm{we}}\\;\\mathrm{vs.\\;Li_{4}Ti_{5}O_{12}\\;\"\n",
    "                       \"[V]}$\",\n",
    "                   Other=\"$V\\;[\\mathrm{V}]$\",\n",
    "                   )"
   ]
  },
  {
   "cell_type": "markdown",
   "id": "5a0d9ada-d37c-46a0-9d37-afa150dad0b6",
   "metadata": {},
   "source": [
    "### Working ion valences"
   ]
  },
  {
   "cell_type": "code",
   "execution_count": 42,
   "id": "5ad647ca-d2dc-4aa9-8ca6-b100bb3a7877",
   "metadata": {},
   "outputs": [],
   "source": [
    "D_WORKING_ION = dict(Li=1, Na=1, Mg=2)"
   ]
  },
  {
   "cell_type": "markdown",
   "id": "16169fd4-086c-4087-8ed1-8654046e5548",
   "metadata": {},
   "source": [
    "### RGB colors for user-defined colormaps"
   ]
  },
  {
   "cell_type": "code",
   "execution_count": 43,
   "id": "e759b46b-7811-4dc6-a909-f06e52e9d020",
   "metadata": {},
   "outputs": [],
   "source": [
    "D_RGB = dict(red=(255, 0, 0),\n",
    "             green=(0, 255, 0),\n",
    "             blue=(0, 0, 255),\n",
    "             indigo=(75, 0, 130),\n",
    "             magenta=(255, 0, 255),\n",
    "             violet=(138, 43, 226),\n",
    "             purple=(128, 0, 128),\n",
    "             maroon=(128, 0, 0),\n",
    "             teal=(0, 128, 128),\n",
    "             navy=(0, 0, 128),\n",
    "             cyan=(0, 255, 255),\n",
    "             )"
   ]
  },
  {
   "cell_type": "markdown",
   "id": "8f01ff40-5027-4d3f-953c-88bf376eb502",
   "metadata": {},
   "source": [
    "### Matplotlib colormaps"
   ]
  },
  {
   "cell_type": "code",
   "execution_count": 44,
   "id": "e49b3536-2d1b-49ce-95bd-cb7aa121873f",
   "metadata": {},
   "outputs": [],
   "source": [
    "CMAPS = sorted([e for e in plt.colormaps()], key=str.lower)"
   ]
  },
  {
   "cell_type": "markdown",
   "id": "061768ac-cf09-4eef-9b36-34ec1af98a64",
   "metadata": {},
   "source": [
    "### Indices used for MTI data extraction"
   ]
  },
  {
   "cell_type": "code",
   "execution_count": 45,
   "id": "cade958e-a483-4196-99e9-df7ac170c9d9",
   "metadata": {},
   "outputs": [],
   "source": [
    "D_INDICES = dict(voltage_index = 2,\n",
    "                 current_index = 3,\n",
    "                 capacity_index = 5,\n",
    "                 date_index = -2,\n",
    "                 time_index = -1,\n",
    "                 )"
   ]
  },
  {
   "cell_type": "markdown",
   "id": "e883a3b9-6424-4b10-baf8-c4631d0221a3",
   "metadata": {},
   "source": [
    "### Biologic data headers"
   ]
  },
  {
   "cell_type": "code",
   "execution_count": 46,
   "id": "968b9929-7d10-4110-93cd-b1ef8413f652",
   "metadata": {},
   "outputs": [],
   "source": [
    "D_HEADER_BIOLOGIC = dict(time=\"time/s\",\n",
    "                         voltage=\"Ewe/V\",\n",
    "                         current=\"<I>/mA\",\n",
    "                         x=\"x\",\n",
    "                         capacity=\"Capacity/mA.h\",\n",
    "                        )"
   ]
  },
  {
   "cell_type": "markdown",
   "id": "25fedfb6-9ac1-4443-a9e6-08ee02aaa180",
   "metadata": {},
   "source": [
    "## Biologic-specific functions"
   ]
  },
  {
   "cell_type": "code",
   "execution_count": 47,
   "id": "ad104668-d802-414a-97fc-6e20d85d6349",
   "metadata": {},
   "outputs": [],
   "source": [
    "def biologic_header_check(file):\n",
    "    with file.open(mode=\"r\") as f:\n",
    "        lines = f.readlines()\n",
    "    header_check = \"EC-Lab\" in lines[0]\n",
    "\n",
    "    return header_check\n",
    "\n",
    "\n",
    "def biologic_remove_header_get_mass(file, output_path):\n",
    "    with file.open(mode=\"r\") as f:\n",
    "        lines = f.readlines()\n",
    "    header_lines = int(lines[1].split()[-1])\n",
    "    for line in lines:\n",
    "        if \"Characteristic mass\" in line:\n",
    "            mass = float(line.split()[-2])\n",
    "    output_path = output_path / file.name\n",
    "    with output_path.open(mode=\"w\") as o:\n",
    "        o.writelines(lines[header_lines-1::])\n",
    "\n",
    "    return output_path, mass\n",
    "\n",
    "\n",
    "def biologic_extract(file, d_keys):\n",
    "    df = pd.read_csv(file, delimiter=\"\\t\")\n",
    "    keys = list(d_keys.keys())\n",
    "    d = {}\n",
    "    for k in keys:\n",
    "        try:\n",
    "            d[k] = df[d_keys[k]].to_numpy()\n",
    "        except KeyError:\n",
    "            print(f\"{80*'-'}\\nThe key '{d_keys[k]}' was missing from\\n\\t\"\n",
    "                 f\"{file.name}\\nPlease re-export the Biologic data with the \"\n",
    "                 f\"following keys (and data) present:\")\n",
    "            for key in keys:\n",
    "                print(f\"\\t{d_keys[key]}\")\n",
    "            print(f\"\\nSkipping this file.\")\n",
    "\n",
    "            return None\n",
    "\n",
    "    time, capacity = d[\"time\"], d[\"capacity\"]\n",
    "    time_cycle_start = np.array([])\n",
    "    for i in range(len(capacity)):\n",
    "        if 10**-10 < capacity[i] < capacity[i-1]:\n",
    "            time_cycle_start = np.append(time_cycle_start, time[i])\n",
    "    d[\"time_cycle_start\"] = time_cycle_start\n",
    "\n",
    "    return d\n",
    "\n",
    "\n",
    "def biologic_zero_capacity_if_resting(d):\n",
    "    current, capacity = d[\"current\"], d[\"capacity\"]\n",
    "    capacity_new = np.array([])\n",
    "    for i in range(len(current)):\n",
    "        if current[i] == 0:\n",
    "            capacity_new = np.append(capacity_new, 0)\n",
    "        else:\n",
    "            capacity_new = np.append(capacity_new, capacity[i])\n",
    "\n",
    "    return capacity_new\n",
    "\n",
    "\n",
    "def biologic_merge_capacities(d):\n",
    "    capacity_charge = d[\"capacity_charge\"]\n",
    "    capacity_discharge = d[\"capacity_discharge\"]\n",
    "    capacity = np.array([])\n",
    "    for i in range(len(capacity_charge)):\n",
    "        if capacity_charge[i] > 10**-10:\n",
    "            capacity = np.append(capacity, capacity_charge[i])\n",
    "        else:\n",
    "            capapacity = np.append(capacity, capacity_discharge[i])\n",
    "    d[\"capacity\"] = capacity\n",
    "\n",
    "    return d"
   ]
  },
  {
   "cell_type": "markdown",
   "id": "3ad999a6-957d-4030-963e-7cd007355674",
   "metadata": {},
   "source": [
    "## MTI-specific functions"
   ]
  },
  {
   "cell_type": "code",
   "execution_count": 48,
   "id": "2e32989c-301e-4904-a1e3-3dd1c2b38e52",
   "metadata": {},
   "outputs": [],
   "source": [
    "def mti_extract(file, d_indices):\n",
    "    with file.open(mode=\"r\") as f:\n",
    "        lines = f.readlines()\n",
    "    header = lines[0:3]\n",
    "    lines = lines[3::]\n",
    "    modes = [\"Rest\", \"CC_Chg\", \"CC_DChg\"]\n",
    "    start = None\n",
    "    for i, line in enumerate(lines):\n",
    "        line = line.split()\n",
    "        for e in modes:\n",
    "            if e in line:\n",
    "                start = i + 1\n",
    "                break\n",
    "        if not isinstance(start, type(None)):\n",
    "            break\n",
    "    cols = len(lines[start].split())\n",
    "    cols_cycles = len(lines[start-2].split())\n",
    "    time_cycle_start = []\n",
    "    for i in range(len(lines)):\n",
    "        line_split = lines[i].split()\n",
    "        if len(line_split) == cols_cycles:\n",
    "            line_split_data = lines[i+2].split()\n",
    "            date_split = line_split_data[d_indices[\"date_index\"]].split(\"-\")\n",
    "            time_split = line_split_data[d_indices[\"time_index\"]].split(\":\")\n",
    "            time_cycle_start.append(datetime(int(date_split[0]),\n",
    "                                             int(date_split[1]),\n",
    "                                             int(date_split[2]),\n",
    "                                             int(time_split[0]),\n",
    "                                             int(time_split[1]),\n",
    "                                             int(time_split[2])\n",
    "                                             ).timestamp()\n",
    "                                    )\n",
    "    time_cycle_start = np.array(time_cycle_start)\n",
    "    time_cycle_start = time_cycle_start - time_cycle_start[0]\n",
    "    voltage, current, capacity, date, time, date_time = [], [], [], [], [], []\n",
    "    for i in range(start, len(lines)):\n",
    "        line = lines[i].split()\n",
    "        if len(line) == cols:\n",
    "            voltage.append(float(line[d_indices[\"voltage_index\"]]))\n",
    "            current.append(float(line[d_indices[\"current_index\"]]))\n",
    "            capacity.append(float(line[d_indices[\"capacity_index\"]]))\n",
    "            date.append(line[d_indices[\"date_index\"]])\n",
    "            time.append(line[d_indices[\"time_index\"]])\n",
    "    for i in range(len(date)):\n",
    "        date_split = date[i].split(\"-\")\n",
    "        time_split = time[i].split(\":\")\n",
    "        date_time.append(datetime(int(date_split[0]),\n",
    "                                  int(date_split[1]),\n",
    "                                  int(date_split[2]),\n",
    "                                  int(time_split[0]),\n",
    "                                  int(time_split[1]),\n",
    "                                  int(time_split[2])\n",
    "                                  ).timestamp()\n",
    "                        )\n",
    "    voltage, current = np.array(voltage), np.array(current) * 10**-3\n",
    "    capacity = np.array(capacity)\n",
    "    date_time = np.array(date_time)\n",
    "    time = date_time - date_time[0]\n",
    "    d = dict(time=time,\n",
    "             voltage=voltage,\n",
    "             current=current,\n",
    "             capacity=capacity,\n",
    "             time_cycle_start=time_cycle_start,\n",
    "             )\n",
    "\n",
    "    return d"
   ]
  },
  {
   "cell_type": "markdown",
   "id": "e93434a5-8a1e-4f34-97e0-ac244a04c335",
   "metadata": {},
   "source": [
    "## General functions"
   ]
  },
  {
   "cell_type": "markdown",
   "id": "737711ee-b61d-4867-9e25-1d0ebafa1f03",
   "metadata": {},
   "source": [
    "### Miscellaneous"
   ]
  },
  {
   "cell_type": "code",
   "execution_count": 49,
   "id": "00a6cd85-9a39-45aa-b07b-66b159e89d1d",
   "metadata": {},
   "outputs": [],
   "source": [
    "def comma_to_dot(file, output_path):\n",
    "    with file.open(mode=\"r\") as f:\n",
    "        s = f.read().replace(\",\", \".\")\n",
    "    output_path = output_path / file.name\n",
    "    with output_path.open(mode=\"w\") as o:\n",
    "        o.write(s)\n",
    "\n",
    "    return output_path\n",
    "\n",
    "\n",
    "def make_x_label(formula, working_ion):\n",
    "    elements = re.sub( r\"([A-Z])\", r\" \\1\", formula).split()\n",
    "    xlabel = \"$x\\;\\mathrm{in\\;\"\n",
    "    for i,e in enumerate(elements):\n",
    "        s = re.split('(\\d.*)', e)\n",
    "        if i == 0 and s[0] != working_ion:\n",
    "            xlabel += working_ion + \"}_{x}\\mathrm{\" + s[0]\n",
    "        elif i == 0 and s[0] == working_ion:\n",
    "            xlabel += str(s[0]) + \"}_{x}\\mathrm{\"\n",
    "        if i > 0:\n",
    "            xlabel += str(s[0])\n",
    "        if len(s) != 1:\n",
    "            xlabel += \"_{\" + str(s[1]) + \"}\"\n",
    "    xlabel += \"}$\"\n",
    "\n",
    "    return xlabel"
   ]
  },
  {
   "cell_type": "markdown",
   "id": "7b84876a-9c42-4150-a69e-9014b86824a6",
   "metadata": {},
   "source": [
    "### Calculators"
   ]
  },
  {
   "cell_type": "code",
   "execution_count": 50,
   "id": "3a6984d2-b92f-4579-bb2c-720d3bf320d0",
   "metadata": {},
   "outputs": [],
   "source": [
    "def molar_mass_calc(formula):\n",
    "    elements = re.sub( r\"([A-Z])\", r\" \\1\", formula).split()\n",
    "    molar_mass = 0\n",
    "    for e in elements:\n",
    "        s = re.split('(\\d.*)', e)\n",
    "        if len(s) == 1:\n",
    "            s.append(1)\n",
    "        if s[-1] == \"\":\n",
    "            s = s[0:-1]\n",
    "        f = Formula(s[0])\n",
    "        m = float(s[1]) * f.mass\n",
    "        molar_mass += m\n",
    "\n",
    "    return molar_mass\n",
    "\n",
    "\n",
    "def x_calc(d, mass, molar_mass, x_start, working_ion_valence):\n",
    "    time, current = d[\"time\"], d[\"current\"]\n",
    "    n = mass / molar_mass\n",
    "    f = physical_constants[\"Faraday constant\"][0]\n",
    "    x = [x_start]\n",
    "    for i in range(1, len(time)):\n",
    "        delta_q =  current[i] * (time[i] - time[i-1]) / working_ion_valence\n",
    "        delta_x = - delta_q / (n * f)\n",
    "        x.append(x[i-1] + delta_x)\n",
    "    change_indices = [i for i in range(1, len(current))\n",
    "                      if current[i] != 0\n",
    "                      and current[i] * current[i-1] <= 0]\n",
    "    x, change_indices = np.array(x), np.array(change_indices)\n",
    "\n",
    "    return x, change_indices"
   ]
  },
  {
   "cell_type": "markdown",
   "id": "a4d208bf-ba02-4725-9caf-0be142b109c3",
   "metadata": {},
   "source": [
    "### Extractors"
   ]
  },
  {
   "cell_type": "code",
   "execution_count": 51,
   "id": "ddc61f72-c7c9-45f3-b8ec-764a379d2f06",
   "metadata": {},
   "outputs": [],
   "source": [
    "def extract_cycles(d):\n",
    "    time_cycle_start = d[\"time_cycle_start\"]\n",
    "    time, voltage, current, x = d[\"time\"], d[\"voltage\"], d[\"current\"], d[\"x\"]\n",
    "    capacity = d[\"capacity\"]\n",
    "    cycle_start_indices = []\n",
    "    for i in range(len(time_cycle_start)):\n",
    "        for j in range(len(time)):\n",
    "            if time_cycle_start[i] == time[j]:\n",
    "                if len(cycle_start_indices) > 0:\n",
    "                    if time[j] - time[cycle_start_indices[-1]] > 0:\n",
    "                        cycle_start_indices.append(j)\n",
    "                else:\n",
    "                    cycle_start_indices.append(j)\n",
    "    d_cycles = {}\n",
    "    for i in range(len(cycle_start_indices)-1):\n",
    "        d_cycles[i] = dict(time = time[cycle_start_indices[i]:\n",
    "                                       cycle_start_indices[i+1]\n",
    "                                       ],\n",
    "                           voltage = voltage[cycle_start_indices[i]:\n",
    "                                             cycle_start_indices[i+1]\n",
    "                                             ],\n",
    "                           current = current[cycle_start_indices[i]:\n",
    "                                             cycle_start_indices[i+1]\n",
    "                                             ],\n",
    "                           capacity = capacity[cycle_start_indices[i]:\n",
    "                                               cycle_start_indices[i+1]\n",
    "                                               ],\n",
    "                           x = x[cycle_start_indices[i]:\n",
    "                                 cycle_start_indices[i+1]\n",
    "                                 ],\n",
    "                           )\n",
    "    d_cycles[i+1] = dict(time = time[cycle_start_indices[i+1]::],\n",
    "                         voltage = voltage[cycle_start_indices[i+1]:],\n",
    "                         current = current[cycle_start_indices[i+1]:],\n",
    "                         x = x[cycle_start_indices[i+1]:],\n",
    "                         capacity = capacity[cycle_start_indices[i+1]:],\n",
    "                         )\n",
    "\n",
    "    return d_cycles\n",
    "\n",
    "\n",
    "def extract_half_cycles(d):\n",
    "    time_cycle_start = d[\"time_cycle_start\"]\n",
    "    time, voltage, current, x = d[\"time\"], d[\"voltage\"], d[\"current\"], d[\"x\"]\n",
    "    capacity = d[\"capacity\"]\n",
    "    current_end_indices = []\n",
    "    for i in range(1, len(current)):\n",
    "        if current[i-1] != 0 and current[i] == 0:\n",
    "            current_end_indices.append(i)\n",
    "    d_half_cycles = {\"0\": dict(time=time[0:current_end_indices[0]],\n",
    "                               voltage=voltage[0:current_end_indices[0]],\n",
    "                               current=current[0:current_end_indices[0]],\n",
    "                               capacity=capacity[0:current_end_indices[0]],\n",
    "                               x=x[0:current_end_indices[0]],\n",
    "                               )\n",
    "                    }\n",
    "    for i in range(len(current_end_indices)-1):\n",
    "        d_half_cycles[i+1] = dict(time=time[current_end_indices[i]:\n",
    "                                            current_end_indices[i+1]\n",
    "                                            ],\n",
    "                                  voltage=voltage[current_end_indices[i]:\n",
    "                                                  current_end_indices[i+1]\n",
    "                                                  ],\n",
    "                                  current=current[current_end_indices[i]:\n",
    "                                                  current_end_indices[i+1]\n",
    "                                                  ],\n",
    "                                  capacity=capacity[current_end_indices[i]:\n",
    "                                                    current_end_indices[i+1]\n",
    "                                                    ],\n",
    "                                  x=x[current_end_indices[i]:\n",
    "                                      current_end_indices[i+1]\n",
    "                                      ],\n",
    "                                  )\n",
    "    d_half_cycles[i+2] = dict(time=time[current_end_indices[i+1]:],\n",
    "                              voltage=voltage[current_end_indices[i+1]:],\n",
    "                              current=current[current_end_indices[i+1]:],\n",
    "                              capacity=capacity[current_end_indices[i+1]:],\n",
    "                              x=x[current_end_indices[i+1]:],\n",
    "                              )\n",
    "\n",
    "    return d_half_cycles\n",
    "\n",
    "\n",
    "def capacities_extract(d):\n",
    "    half_cycles = list(d.keys())\n",
    "    cap_charge, cap_discharge = [], []\n",
    "    for e in half_cycles:\n",
    "        current, capacity = d[e][\"current\"], d[e][\"capacity\"]\n",
    "        if current[-1] > 10**-5:\n",
    "            cap_charge.append(capacity[-1])\n",
    "        else:\n",
    "            cap_discharge.append(capacity[-1])\n",
    "    cap_charge, cap_discharge = np.array(cap_charge), np.array(cap_discharge)\n",
    "    if len(cap_charge) == len(cap_discharge):\n",
    "        coulomb_eff = cap_discharge / cap_charge\n",
    "    elif len(cap_charge) > len(cap_discharge):\n",
    "        coulomb_eff = cap_discharge / cap_charge[0:len(cap_discharge)]\n",
    "    elif len(cap_charge) < len(cap_discharge):\n",
    "        coulomb_eff = cap_discharge[0:len(cap_charge)] / cap_charge\n",
    "    d_caps = dict(charge=cap_charge,\n",
    "                  discharge=cap_discharge,\n",
    "                  coulomb_eff=coulomb_eff,\n",
    "                  )\n",
    "\n",
    "    return d_caps\n"
   ]
  },
  {
   "cell_type": "markdown",
   "id": "9770db8e-ec59-4ccf-88c6-16bc5c8a1e83",
   "metadata": {},
   "source": [
    "### Writers"
   ]
  },
  {
   "cell_type": "code",
   "execution_count": 52,
   "id": "2059b0da-4c8d-44b3-b458-38e1dcfd9cbf",
   "metadata": {},
   "outputs": [],
   "source": [
    "def write(d, output_path):\n",
    "    keys = list(d.keys())\n",
    "    header = f\"t [s]\\tV [V]\\tI [A]\\tQ [mAh/g]\\tx\"\n",
    "    array = d[keys[0]]\n",
    "    for i in range(1, len(keys)):\n",
    "        if not keys[i] in [\"change_indices\", \"time_cycle_start\"]:\n",
    "            array = np.column_stack((array, d[keys[i]]))\n",
    "    np.savetxt(output_path,\n",
    "               array,\n",
    "               header=header,\n",
    "               fmt=\"%.6e\",\n",
    "               delimiter=\"\\t\",\n",
    "               encoding=\"utf8\",\n",
    "               )\n",
    "\n",
    "    return None\n",
    "\n",
    "\n",
    "def cycles_write(d, output_path):\n",
    "    cycles = list(d.keys())\n",
    "    for cycle in cycles:\n",
    "        keys = list(d[cycle].keys())\n",
    "        header = f\"t [s]\\tV [V]\\tI [A]\\tQ [mAh/g]\\tx\"\n",
    "        array = d[cycle][keys[0]]\n",
    "        for i in range(1, len(keys)):\n",
    "            array = np.column_stack((array, d[cycle][keys[i]]))\n",
    "        cycle = cycle + 1\n",
    "        zfill = str(cycle).zfill(2)\n",
    "        fname = f\"{output_path.stem}_cycle-{zfill}{output_path.suffix}\"\n",
    "        output_path_cycle = output_path.parent / fname\n",
    "        np.savetxt(output_path_cycle,\n",
    "                   array,\n",
    "                   header=header,\n",
    "                   fmt=\"%.6e\",\n",
    "                   delimiter=\"\\t\",\n",
    "                   encoding=\"utf8\",\n",
    "                   )\n",
    "\n",
    "    return None"
   ]
  },
  {
   "cell_type": "markdown",
   "id": "754b851c-9c85-41de-8d40-fa9934c68492",
   "metadata": {},
   "source": [
    "### Plotters"
   ]
  },
  {
   "cell_type": "code",
   "execution_count": 53,
   "id": "7b1216e4-5498-42fb-8d30-7ea71b2dbf64",
   "metadata": {},
   "outputs": [],
   "source": [
    "def plot_time_voltage(filename, d_data, d_plot, plot_paths):\n",
    "    time, voltage = d_data[\"time\"]*60**-2, d_data[\"voltage\"]\n",
    "    plt.style.use(bg_mpl_style)\n",
    "    fig, ax = plt.subplots(dpi=d_plot[\"dpi\"], figsize=d_plot[\"figsize\"])\n",
    "    colors = d_plot[\"colors\"](np.linspace(0, 1, 10))\n",
    "    ax.plot(time, voltage, c=colors[-2])\n",
    "    ax.set_xlabel(d_plot[\"t_std_label\"], fontsize=d_plot[\"fontsize_labels\"])\n",
    "    ax.set_ylabel(d_plot[\"ewe_label\"], fontsize=d_plot[\"fontsize_labels\"])\n",
    "    ax.tick_params(axis=\"both\", labelsize=d_plot[\"fontsize_ticks\"])\n",
    "    ax.minorticks_on()\n",
    "    ax.set_xlim(np.amin(time), np.amax(time))\n",
    "    for p in plot_paths:\n",
    "        print(f\"\\t\\t\\t{p.parent.name}\")\n",
    "        output_path = p / f\"{filename}_t-ewe.{p.parent.name}\"\n",
    "        plt.savefig(output_path, bbox_inches=\"tight\")\n",
    "    plt.close()\n",
    "\n",
    "    return None\n",
    "\n",
    "\n",
    "def plot_x_voltage(filename, d_data, d_plot, plot_paths):\n",
    "    x, voltage = d_data[\"x\"], d_data[\"voltage\"]\n",
    "    plt.style.use(bg_mpl_style)\n",
    "    colors = d_plot[\"colors\"](np.linspace(0, 1, 3))\n",
    "    fig, ax = plt.subplots(dpi=d_plot[\"dpi\"], figsize=d_plot[\"figsize\"])\n",
    "    ax.plot(x, voltage, color=colors[1])\n",
    "    ax.set_xlabel(d_plot[\"x_std_label\"], fontsize=d_plot[\"fontsize_labels\"])\n",
    "    ax.set_ylabel(d_plot[\"ewe_label\"], fontsize=d_plot[\"fontsize_labels\"])\n",
    "    ax.tick_params(axis=\"both\", labelsize=d_plot[\"fontsize_ticks\"])\n",
    "    ax.minorticks_on()\n",
    "    ax.set_xlim(np.amin(x), np.amax(x))\n",
    "    for p in plot_paths:\n",
    "        print(f\"\\t\\t\\t{p.parent.name}\")\n",
    "        output_path = p / f\"{filename}_x-ewe.{p.parent.name}\"\n",
    "        plt.savefig(output_path, bbox_inches=\"tight\")\n",
    "    plt.close()\n",
    "\n",
    "    return None\n",
    "\n",
    "\n",
    "def plot_x_voltage_cycles_cbar(filename, d, d_plot, plot_paths, save=True):\n",
    "    cycles = list(d.keys())\n",
    "    colors = d_plot[\"colors\"](np.linspace(0, 1, len(cycles)))\n",
    "    plt.style.use(bg_mpl_style)\n",
    "    fig, axs = plt.subplots(dpi=d_plot[\"dpi\"],\n",
    "                            figsize=d_plot[\"figsize\"],\n",
    "                            ncols=2,\n",
    "                            gridspec_kw=dict(width_ratios=[1, 0.01]),\n",
    "                            )\n",
    "    xmin, xmax = [], []\n",
    "    for i in range(len(cycles)):\n",
    "        x, voltage = d[cycles[i]][\"x\"], d[cycles[i]][\"voltage\"]\n",
    "        axs[0].plot(x, voltage, label=str(i+1), c=colors[i])\n",
    "        xmin.append(np.amin(x))\n",
    "        xmax.append(np.amax(x))\n",
    "    xmin, xmax = np.amin(np.array(xmin)), np.amax(np.array(xmax))\n",
    "    xrange = xmax - xmin\n",
    "    axs[0].set_xlabel(d_plot[\"x_label\"],\n",
    "                      fontsize=d_plot[\"fontsize_labels\"],\n",
    "                      )\n",
    "    axs[0].set_ylabel(d_plot[\"ewe_label\"],\n",
    "                      fontsize=d_plot[\"fontsize_labels\"],\n",
    "                      )\n",
    "    axs[0].tick_params(axis=\"both\", labelsize=d_plot[\"fontsize_ticks\"])\n",
    "    axs[0].minorticks_on()\n",
    "    axs[0].set_xlim(xmin - 0.01 * xrange, xmax + 0.01 * xrange)\n",
    "    sm = plt.cm.ScalarMappable(cmap=d_plot[\"colors\"].reversed(),\n",
    "                               norm=plt.Normalize(vmin=0, vmax=1),\n",
    "                               )\n",
    "    cbar = plt.colorbar(sm,\n",
    "                        cax=axs[1],\n",
    "                        ticks=[0, 1],\n",
    "                        )\n",
    "    cbar.ax.set_yticklabels([\"end\", \"start\"])\n",
    "    cbar.ax.tick_params(axis=\"y\")\n",
    "    plt.subplots_adjust(wspace=0.05)\n",
    "    for p in plot_paths:\n",
    "        print(f\"\\t\\t\\t{p.parent.name}\")\n",
    "        output_path = p / f\"{filename}_x-ewe.{p.parent.name}\"\n",
    "        plt.savefig(output_path, bbox_inches=\"tight\")\n",
    "    plt.close()\n",
    "\n",
    "    return None\n",
    "\n",
    "\n",
    "def plot_x_voltage_cycles_legend(filename, d, d_plot, plot_paths):\n",
    "    cycles = list(d.keys())\n",
    "    colors = d_plot[\"colors\"](np.linspace(0, 1, len(cycles)))\n",
    "    plt.style.use(bg_mpl_style)\n",
    "    fig, ax = plt.subplots(dpi=d_plot[\"dpi\"],\n",
    "                            figsize=d_plot[\"figsize\"],\n",
    "                            )\n",
    "    xmin, xmax = [], []\n",
    "    for i in range(len(cycles)):\n",
    "        x, voltage = d[cycles[i]][\"x\"], d[cycles[i]][\"voltage\"]\n",
    "        ax.plot(x, voltage, label=str(i+1), c=colors[i])\n",
    "        xmin.append(np.amin(x))\n",
    "        xmax.append(np.amax(x))\n",
    "    xmin, xmax = np.amin(np.array(xmin)), np.amax(np.array(xmax))\n",
    "    xrange = xmax - xmin\n",
    "    ax.set_xlabel(d_plot[\"x_label\"], fontsize=d_plot[\"fontsize_labels\"])\n",
    "    ax.set_ylabel(d_plot[\"ewe_label\"], fontsize=d_plot[\"fontsize_labels\"])\n",
    "    ax.tick_params(axis=\"both\", labelsize=d_plot[\"fontsize_ticks\"])\n",
    "    ax.minorticks_on()\n",
    "    ax.set_xlim(xmin - 0.01 * xrange, xmax + 0.01 * xrange)\n",
    "    if len(cycles) <= 7:\n",
    "        ncols = len(cycles)\n",
    "        offset = 0.15\n",
    "    else:\n",
    "        ncols = 8\n",
    "        if 1 < len(cycles) / ncols <= 2:\n",
    "            offset = 0.25\n",
    "        elif 2 < len(cycles) / ncols <= 3:\n",
    "            offset = 0.375\n",
    "        elif 3 < len(cycles) / ncols <= 4:\n",
    "            offset = 0.45\n",
    "        elif 4 < len(cycles) / ncols <= 5:\n",
    "            offset = 0.55\n",
    "        else:\n",
    "            print(f\"\\t\\t\\tToo many cycles to get right offset for legend.\\n\"\n",
    "                  f\"\\t\\t\\tSetting legend offset to 0.\\n\\t\\t\\tPlease \"\n",
    "                  f\"consider using a colorbar instead of a legend.\\n\")\n",
    "            offset = 0\n",
    "    handles, labels = ax.get_legend_handles_labels()\n",
    "    handles_sorted, labels_sorted = [], []\n",
    "    for i in range(ncols):\n",
    "        for j in range(len(labels)):\n",
    "            if (int(labels[j]) + ncols - 1) % ncols == i:\n",
    "                handles_sorted.append(handles[j])\n",
    "                labels_sorted.append(labels[j])\n",
    "    ax.legend(handles=handles_sorted,\n",
    "              labels=labels_sorted,\n",
    "              loc=\"upper center\",\n",
    "              bbox_to_anchor=(0.5, 1 + offset),\n",
    "              ncols=ncols,\n",
    "              framealpha=0,\n",
    "              )\n",
    "    for p in plot_paths:\n",
    "        print(f\"\\t\\t\\t{p.parent.name}\")\n",
    "        output_path = p / f\"{filename}_x-ewe.{p.parent.name}\"\n",
    "        plt.savefig(output_path, bbox_inches=\"tight\")\n",
    "    plt.close()\n",
    "\n",
    "    return None\n",
    "\n",
    "\n",
    "def plot_capacity_voltage_cbar(filename, d, d_plot, plot_paths):\n",
    "    half_cycles = list(d.keys())\n",
    "    if len(half_cycles) % 2 != 0:\n",
    "        n_cycles = int((len(half_cycles) + 1) / 2)\n",
    "    else:\n",
    "        n_cycles = int(len(half_cycles) / 2)\n",
    "    plt.style.use(bg_mpl_style)\n",
    "    colors = d_plot[\"colors\"](np.linspace(0, 1, n_cycles))\n",
    "    fig, axs = plt.subplots(dpi=d_plot[\"dpi\"],\n",
    "                            figsize=d_plot[\"figsize\"],\n",
    "                            ncols=2,\n",
    "                            gridspec_kw=dict(width_ratios=[1, 0.01]),\n",
    "                            )\n",
    "    xmin, xmax = [], []\n",
    "    counter = 0\n",
    "    for i in range(len(half_cycles)):\n",
    "        capacity = d[half_cycles[i]][\"capacity\"]\n",
    "        voltage = d[half_cycles[i]][\"voltage\"]\n",
    "        axs[0].plot(capacity, voltage, label=str(counter), c=colors[counter])\n",
    "        xmin.append(np.amin(capacity))\n",
    "        xmax.append(np.amax(capacity))\n",
    "        if i % 2 != 0:\n",
    "            counter += 1\n",
    "    axs[0].set_xlabel(d_plot[\"cap_std_label\"], fontsize=d_plot[\"fontsize_labels\"])\n",
    "    axs[0].set_ylabel(d_plot[\"ewe_label\"], fontsize=d_plot[\"fontsize_labels\"])\n",
    "    axs[0].tick_params(axis=\"both\", labelsize=d_plot[\"fontsize_ticks\"])\n",
    "    axs[0].minorticks_on()\n",
    "    xmin, xmax = np.amin(np.array(xmin)), np.amax(np.array(xmax))\n",
    "    xrange = xmax - xmin\n",
    "    axs[0].set_xlim(xmin - (0.01 * xrange), xmax + (0.01 * xrange))\n",
    "    sm = plt.cm.ScalarMappable(cmap=d_plot[\"colors\"].reversed(),\n",
    "                               norm=plt.Normalize(vmin=0, vmax=1),\n",
    "                               )\n",
    "    cbar = plt.colorbar(sm,\n",
    "                        cax=axs[1],\n",
    "                        ticks=[0, 1],\n",
    "                        )\n",
    "    cbar.ax.set_yticklabels([\"end\", \"start\"])\n",
    "    cbar.ax.tick_params(axis=\"y\")\n",
    "    plt.subplots_adjust(wspace=0.05)\n",
    "    for p in plot_paths:\n",
    "        print(f\"\\t\\t\\t{p.parent.name}\")\n",
    "        output_path = p / f\"{filename}_cap-ewe.{p.parent.name}\"\n",
    "        plt.savefig(output_path, bbox_inches=\"tight\")\n",
    "    plt.close()\n",
    "\n",
    "    return None\n",
    "\n",
    "\n",
    "def plot_capacity_voltage_legend(filename, d, d_plot, plot_paths):\n",
    "    half_cycles = list(d.keys())\n",
    "    plt.style.use(bg_mpl_style)\n",
    "    colors = d_plot[\"colors\"]\n",
    "    colors = colors(np.linspace(0, 1, int((len(half_cycles) / 2) + 2)))\n",
    "    fig, ax = plt.subplots(dpi=d_plot[\"dpi\"], figsize=d_plot[\"figsize\"])\n",
    "    xmin, xmax = [], []\n",
    "    counter = 0\n",
    "    for i in range(len(half_cycles)):\n",
    "        capacity = d[half_cycles[i]][\"capacity\"]\n",
    "        voltage = d[half_cycles[i]][\"voltage\"]\n",
    "        ax.plot(capacity, voltage, label=str(counter), c=colors[counter])\n",
    "        xmin.append(np.amin(capacity))\n",
    "        xmax.append(np.amax(capacity))\n",
    "        if i % 2 != 0:\n",
    "            counter += 1\n",
    "    ax.set_xlabel(d_plot[\"cap_std_label\"], fontsize=d_plot[\"fontsize_labels\"])\n",
    "    ax.set_ylabel(d_plot[\"ewe_label\"], fontsize=d_plot[\"fontsize_labels\"])\n",
    "    ax.tick_params(axis=\"both\", labelsize=d_plot[\"fontsize_ticks\"])\n",
    "    ax.minorticks_on()\n",
    "    xmin, xmax = np.amin(np.array(xmin)), np.amax(np.array(xmax))\n",
    "    xrange = xmax - xmin\n",
    "    ax.set_xlim(xmin - (0.01 * xrange), xmax + (0.01 * xrange))\n",
    "    for p in plot_paths:\n",
    "        print(f\"\\t\\t\\t{p.parent.name}\")\n",
    "        output_path = p / f\"{filename}_cap-ewe.{p.parent.name}\"\n",
    "        plt.savefig(output_path, bbox_inches=\"tight\")\n",
    "    plt.close()\n",
    "\n",
    "    return None\n",
    "\n",
    "\n",
    "def plot_cycle_capacity(filename, d, d_plot, plot_paths):\n",
    "    capacity_charge, capacity_discharge = d[\"charge\"], d[\"discharge\"]\n",
    "    plt.style.use(bg_mpl_style)\n",
    "    colors = d_plot[\"colors\"](np.linspace(0, 1, 10))\n",
    "    fig, ax = plt.subplots(dpi=d_plot[\"dpi\"], figsize=d_plot[\"figsize\"])\n",
    "    ax.scatter(range(1, len(capacity_charge) + 1),\n",
    "               capacity_charge,\n",
    "               color=colors[0],\n",
    "               label=\"charge\",\n",
    "               )\n",
    "    ax.scatter(range(1, len(capacity_discharge) + 1),\n",
    "               capacity_discharge,\n",
    "               color=colors[-2],\n",
    "               label=\"discharge\",\n",
    "               )\n",
    "    xmin, xmax = 1, max(len(capacity_charge), len(capacity_discharge))\n",
    "    xrange = xmax - xmin\n",
    "    ax.set_xlim(xmin - 0.01 * xrange, xmax + 0.01 * xrange)\n",
    "    ax.set_xlabel(d_plot[\"cycle_std_label\"], fontsize=d_plot[\"fontsize_labels\"])\n",
    "    ax.set_ylabel(d_plot[\"cap_std_label\"], fontsize=d_plot[\"fontsize_labels\"])\n",
    "    ax.tick_params(axis=\"both\", labelsize=d_plot[\"fontsize_ticks\"])\n",
    "    ax.minorticks_on()\n",
    "    ax.legend(loc=\"upper center\",\n",
    "              bbox_to_anchor=(0.5, 1.15),\n",
    "              ncols=2,\n",
    "              framealpha=0,\n",
    "              )\n",
    "    for p in plot_paths:\n",
    "        print(f\"\\t\\t\\t{p.parent.name}\")\n",
    "        output_path = p / f\"{filename}_cycle-cap.{p.parent.name}\"\n",
    "        plt.savefig(output_path, bbox_inches=\"tight\")\n",
    "    plt.close()\n",
    "\n",
    "    return None\n",
    "\n",
    "\n",
    "def plot_cycle_ce(filename, d, d_plot, plot_paths):\n",
    "    ce = d[\"coulomb_eff\"]\n",
    "    plt.style.use(bg_mpl_style)\n",
    "    fig, ax = plt.subplots(dpi=d_plot[\"dpi\"], figsize=d_plot[\"figsize\"])\n",
    "    colors = d_plot[\"colors\"](np.linspace(0, 1, 10))\n",
    "    ax.scatter(range(1, len(ce) + 1), ce, color=colors[-2])\n",
    "    xmin, xmax = 1, max(len(ce), len(ce))\n",
    "    xrange = xmax - xmin\n",
    "    ax.set_xlim(xmin - 0.01 * xrange, xmax + 0.01 * xrange)\n",
    "    ax.set_ylim(0, 1.05)\n",
    "    ax.set_xlabel(d_plot[\"cycle_std_label\"], fontsize=d_plot[\"fontsize_labels\"])\n",
    "    ax.set_ylabel(d_plot[\"ce_std_label\"], fontsize=d_plot[\"fontsize_labels\"])\n",
    "    ax.tick_params(axis=\"both\", labelsize=d_plot[\"fontsize_ticks\"])\n",
    "    ax.minorticks_on()\n",
    "    for p in plot_paths:\n",
    "        print(f\"\\t\\t\\t{p.parent.name}\")\n",
    "        output_path = p / f\"{filename}_cycle-ce.{p.parent.name}\"\n",
    "        plt.savefig(output_path, bbox_inches=\"tight\")\n",
    "    plt.close()\n",
    "\n",
    "    return None"
   ]
  },
  {
   "cell_type": "markdown",
   "id": "e342d830-12f9-4192-8f62-5f4a2f2ca246",
   "metadata": {},
   "source": [
    "## Input directory"
   ]
  },
  {
   "cell_type": "code",
   "execution_count": 54,
   "id": "abe5ef0f-ea5b-4bca-8baa-d30d75fe912b",
   "metadata": {},
   "outputs": [],
   "source": [
    "data_path = Path.cwd() / \"data\"\n",
    "if not data_path.exists():\n",
    "    data_path.mkdir()\n",
    "    sys.exit(f\"{80*'-'}\\nA folder called 'data' has been created.\\n\"\n",
    "             f\"Please place your .txt files containing GC data there and \"\n",
    "             f\"rerun the program.\\n{80*'-'}\"\n",
    "             )"
   ]
  },
  {
   "cell_type": "markdown",
   "id": "837903c3-1752-471d-996f-231218ccca77",
   "metadata": {},
   "source": [
    "## Listing data files"
   ]
  },
  {
   "cell_type": "code",
   "execution_count": 55,
   "id": "a09ecdc8-0b4a-4ab9-acd7-e58eecb870a5",
   "metadata": {},
   "outputs": [],
   "source": [
    "data_files = list(data_path.glob(\"*.txt\"))\n",
    "if len(data_files) == 0:\n",
    "    sys.exit(f\"{80*'-'}\\nNo .txt files were found in the 'data' folder.\\n\"\n",
    "             f\"Please place your .txt files containing GC data there and \"\n",
    "             f\"rerun the program.\\n{80*'-'}\"\n",
    "             )"
   ]
  },
  {
   "cell_type": "markdown",
   "id": "3b3fbf46-f4b8-4b11-8679-a726c913bebc",
   "metadata": {},
   "source": [
    "## Output directories"
   ]
  },
  {
   "cell_type": "code",
   "execution_count": 56,
   "id": "a037397c-ff80-41bc-97ec-29c893abc47f",
   "metadata": {},
   "outputs": [],
   "source": [
    "txt_path = Path.cwd() / \"txt\"\n",
    "data_ctd_path = Path.cwd() / \"data_comma-to-dot\"\n",
    "data_nh_path = Path.cwd() / \"data_no-header\"\n",
    "png_path, pdf_path = Path.cwd() / \"png\", Path.cwd() / \"pdf\"\n",
    "svg_path = Path.cwd() / \"svg\"\n",
    "output_paths = [txt_path,\n",
    "                data_ctd_path,\n",
    "                data_nh_path,\n",
    "                png_path,\n",
    "                pdf_path,\n",
    "                svg_path,\n",
    "                ]\n",
    "for p in output_paths:\n",
    "    if not p.exists():\n",
    "        p.mkdir()\n",
    "output_paths = [txt_path, png_path, pdf_path, svg_path,]"
   ]
  },
  {
   "cell_type": "markdown",
   "id": "b05502ab-455f-4d17-aa75-ada05a0291db",
   "metadata": {},
   "source": [
    "## Extracting, writing, and plotting"
   ]
  },
  {
   "cell_type": "code",
   "execution_count": null,
   "id": "66bf42a4-b794-45d5-a75d-c6827ced1fba",
   "metadata": {},
   "outputs": [
    {
     "name": "stdout",
     "output_type": "stream",
     "text": [
      "--------------------------------------------------------------------------------\n",
      "Working w. file: 00_BIOLOGIC_NO_CURRENT.txt.\n"
     ]
    },
    {
     "name": "stdin",
     "output_type": "stream",
     "text": [
      "\n",
      "\tAvailable potentiostats:\n",
      "\t\t0\tBiologic\n",
      "\t\t1\tMTI\n",
      "\tPlease provide the index of the potentiostat used to collect the GC\n",
      "\tdata:  0\n"
     ]
    },
    {
     "name": "stdout",
     "output_type": "stream",
     "text": [
      "\n",
      "\tConverting commas to dots...\n",
      "--------------------------------------------------------------------------------\n",
      "The key '<I>/mA' was missing from\n",
      "\t00_BIOLOGIC_NO_CURRENT.txt\n",
      "Please re-export the Biologic data with the following keys (and data) present:\n",
      "\ttime/s\n",
      "\tEwe/V\n",
      "\t<I>/mA\n",
      "\tx\n",
      "\tCapacity/mA.h\n",
      "\n",
      "Skipping this file.\n",
      "--------------------------------------------------------------------------------\n",
      "Working w. file: 01_BIOLOGIC_NO_X.txt.\n"
     ]
    },
    {
     "name": "stdin",
     "output_type": "stream",
     "text": [
      "\n",
      "\tAvailable potentiostats:\n",
      "\t\t0\tBiologic\n",
      "\t\t1\tMTI\n",
      "\tPlease provide the index of the potentiostat used to collect the GC\n",
      "\tdata:  0\n"
     ]
    },
    {
     "name": "stdout",
     "output_type": "stream",
     "text": [
      "\n",
      "\tConverting commas to dots...\n",
      "--------------------------------------------------------------------------------\n",
      "The key 'x' was missing from\n",
      "\t01_BIOLOGIC_NO_X.txt\n",
      "Please re-export the Biologic data with the following keys (and data) present:\n",
      "\ttime/s\n",
      "\tEwe/V\n",
      "\t<I>/mA\n",
      "\tx\n",
      "\tCapacity/mA.h\n",
      "\n",
      "Skipping this file.\n",
      "--------------------------------------------------------------------------------\n",
      "Working w. file: 02_BIOLOGIC_Na07Fe033Mn067O2-Na_6dot29.txt.\n"
     ]
    },
    {
     "name": "stdin",
     "output_type": "stream",
     "text": [
      "\n",
      "\tAvailable potentiostats:\n",
      "\t\t0\tBiologic\n",
      "\t\t1\tMTI\n",
      "\tPlease provide the index of the potentiostat used to collect the GC\n",
      "\tdata:  0\n"
     ]
    },
    {
     "name": "stdout",
     "output_type": "stream",
     "text": [
      "\n",
      "\tConverting commas to dots...\n"
     ]
    },
    {
     "name": "stdin",
     "output_type": "stream",
     "text": [
      "\tDone extracting data.\n",
      "\n",
      "\tPlease provide the mass of the active electrode material (in mg):  6.29\n",
      "\n",
      "\tPlease provide the empirical formula, e.g. LiFePO4, of the active\n",
      "\telectrode material:  Na0.7Fe0.33Mn0.67O2\n"
     ]
    },
    {
     "name": "stdout",
     "output_type": "stream",
     "text": [
      "\n",
      "\tCalculated molar mass for Na0.7Fe0.33Mn0.67O2: 103.328988 g/mol\n"
     ]
    },
    {
     "name": "stdin",
     "output_type": "stream",
     "text": [
      "\n",
      "\tPlease provide the initial value for x, i.e. initial working ion content\n",
      "\tof the electrode, e.g. 1 for LiFePO4:  0.7\n"
     ]
    },
    {
     "name": "stdout",
     "output_type": "stream",
     "text": [
      "\n",
      "\tWorking ions...\n",
      "\t\t0\tLi\n",
      "\t\t1\tNa\n",
      "\t\t2\tMg\n"
     ]
    },
    {
     "name": "stdin",
     "output_type": "stream",
     "text": [
      "\tPlease provide the index of the working ion:  1\n"
     ]
    },
    {
     "name": "stdout",
     "output_type": "stream",
     "text": [
      "\n",
      "\tAvailable counter electrodes...\n",
      "\t\t0\tLi\n",
      "\t\t1\tNa\n",
      "\t\t2\tMg\n",
      "\t\t3\tNMC\n",
      "\t\t4\tLTO\n",
      "\t\t5\tOther\n"
     ]
    },
    {
     "name": "stdin",
     "output_type": "stream",
     "text": [
      "\tPlease provide the index of the counter electrode:  1\n"
     ]
    },
    {
     "name": "stdout",
     "output_type": "stream",
     "text": [
      "\n",
      "\tColorbar or legend...\n",
      "\t\t0\tColorbar\n",
      "\t\t1\tLegend\n"
     ]
    },
    {
     "name": "stdin",
     "output_type": "stream",
     "text": [
      "\tPlease indicate whether a colorbar or a legend is preferred:  0\n"
     ]
    },
    {
     "name": "stdout",
     "output_type": "stream",
     "text": [
      "\n",
      "\tColor types...\n",
      "\t\t0\tUser-defined sequential colormap \n",
      "\t\t1\tMatplotlib colormap\n"
     ]
    },
    {
     "name": "stdin",
     "output_type": "stream",
     "text": [
      "\tPlease provide the index to indicate whether you prefer a sequential\n",
      "\tcolormap using a user-provided color or a Matplotlib colormap:  0\n"
     ]
    },
    {
     "name": "stdout",
     "output_type": "stream",
     "text": [
      "\n",
      "\tAvailable color schemes...\n",
      "\t\t0\tred\n",
      "\t\t1\tgreen\n",
      "\t\t2\tblue\n",
      "\t\t3\tindigo\n",
      "\t\t4\tmagenta\n",
      "\t\t5\tviolet\n",
      "\t\t6\tpurple\n",
      "\t\t7\tmaroon\n",
      "\t\t8\tteal\n",
      "\t\t9\tnavy\n",
      "\t\t10\tcyan\n"
     ]
    },
    {
     "name": "stdin",
     "output_type": "stream",
     "text": [
      "\tPlease provide the index of the desired color scheme:  0\n"
     ]
    },
    {
     "name": "stdout",
     "output_type": "stream",
     "text": [
      "\n",
      "\tCalculating x-values, i.e. state of charge...\n",
      "\tDone calculating x-values.\n",
      "\n",
      "\tWriting extracted and calculated data to '02_BIOLOGIC_Na07Fe033Mn067O2-Na_6dot29' folder.\n",
      "\tDone writing extracted and calculated data to 'txt' folder.\n",
      "\n",
      "\tPlotting data...\n",
      "\t\ttime vs. voltage...\n",
      "\t\t\tpng\n",
      "\t\t\tpdf\n",
      "\t\t\tsvg\n",
      "\t\tx vs. voltage...\n",
      "\t\t\tpng\n",
      "\t\t\tpdf\n",
      "\t\t\tsvg\n",
      "\t\tcapacity vs. voltage...\n",
      "\t\t\tpng\n",
      "\t\t\tpdf\n",
      "\t\t\tsvg\n",
      "\t\tcycle number vs. capacity...\n",
      "\t\t\tpng\n",
      "\t\t\tpdf\n",
      "\t\t\tsvg\n",
      "\t\tcycle number vs. couloumbic efficiency...\n",
      "\t\t\tpng\n",
      "\t\t\tpdf\n",
      "\t\t\tsvg\n",
      "\tDone plotting data.\n",
      "\tPlease see the ['png', 'pdf', 'svg'] folders.\n",
      "--------------------------------------------------------------------------------\n",
      "Working w. file: 03_BIOLOGIC_Na07Fe033Mn067O2-Na_6dot29_header.txt.\n"
     ]
    },
    {
     "name": "stdin",
     "output_type": "stream",
     "text": [
      "\n",
      "\tAvailable potentiostats:\n",
      "\t\t0\tBiologic\n",
      "\t\t1\tMTI\n",
      "\tPlease provide the index of the potentiostat used to collect the GC\n",
      "\tdata:  0\n"
     ]
    },
    {
     "name": "stdout",
     "output_type": "stream",
     "text": [
      "\n",
      "\tConverting commas to dots...\n"
     ]
    },
    {
     "name": "stdin",
     "output_type": "stream",
     "text": [
      "\n",
      "\tPlease provide the empirical formula, e.g. LiFePO4, of the active\n",
      "\telectrode material:  Na0.7Fe0.33Mn0.67O2\n"
     ]
    },
    {
     "name": "stdout",
     "output_type": "stream",
     "text": [
      "\n",
      "\tCalculated molar mass for Na0.7Fe0.33Mn0.67O2: 103.328988 g/mol\n"
     ]
    },
    {
     "name": "stdin",
     "output_type": "stream",
     "text": [
      "\n",
      "\tPlease provide the initial value for x, i.e. initial working ion content\n",
      "\tof the electrode, e.g. 1 for LiFePO4:  0.7\n"
     ]
    },
    {
     "name": "stdout",
     "output_type": "stream",
     "text": [
      "\n",
      "\tWorking ions...\n",
      "\t\t0\tLi\n",
      "\t\t1\tNa\n",
      "\t\t2\tMg\n"
     ]
    },
    {
     "name": "stdin",
     "output_type": "stream",
     "text": [
      "\tPlease provide the index of the working ion:  1\n"
     ]
    },
    {
     "name": "stdout",
     "output_type": "stream",
     "text": [
      "\n",
      "\tAvailable counter electrodes...\n",
      "\t\t0\tLi\n",
      "\t\t1\tNa\n",
      "\t\t2\tMg\n",
      "\t\t3\tNMC\n",
      "\t\t4\tLTO\n",
      "\t\t5\tOther\n"
     ]
    },
    {
     "name": "stdin",
     "output_type": "stream",
     "text": [
      "\tPlease provide the index of the counter electrode:  1\n"
     ]
    },
    {
     "name": "stdout",
     "output_type": "stream",
     "text": [
      "\n",
      "\tColorbar or legend...\n",
      "\t\t0\tColorbar\n",
      "\t\t1\tLegend\n"
     ]
    },
    {
     "name": "stdin",
     "output_type": "stream",
     "text": [
      "\tPlease indicate whether a colorbar or a legend is preferred:  0\n"
     ]
    },
    {
     "name": "stdout",
     "output_type": "stream",
     "text": [
      "\n",
      "\tColor types...\n",
      "\t\t0\tUser-defined sequential colormap \n",
      "\t\t1\tMatplotlib colormap\n"
     ]
    },
    {
     "name": "stdin",
     "output_type": "stream",
     "text": [
      "\tPlease provide the index to indicate whether you prefer a sequential\n",
      "\tcolormap using a user-provided color or a Matplotlib colormap:  0\n"
     ]
    },
    {
     "name": "stdout",
     "output_type": "stream",
     "text": [
      "\n",
      "\tAvailable color schemes...\n",
      "\t\t0\tred\n",
      "\t\t1\tgreen\n",
      "\t\t2\tblue\n",
      "\t\t3\tindigo\n",
      "\t\t4\tmagenta\n",
      "\t\t5\tviolet\n",
      "\t\t6\tpurple\n",
      "\t\t7\tmaroon\n",
      "\t\t8\tteal\n",
      "\t\t9\tnavy\n",
      "\t\t10\tcyan\n"
     ]
    },
    {
     "name": "stdin",
     "output_type": "stream",
     "text": [
      "\tPlease provide the index of the desired color scheme:  1\n"
     ]
    },
    {
     "name": "stdout",
     "output_type": "stream",
     "text": [
      "\n",
      "\tCalculating x-values, i.e. state of charge...\n",
      "\tDone calculating x-values.\n",
      "\n",
      "\tWriting extracted and calculated data to '03_BIOLOGIC_Na07Fe033Mn067O2-Na_6dot29_header' folder.\n",
      "\tDone writing extracted and calculated data to 'txt' folder.\n",
      "\n",
      "\tPlotting data...\n",
      "\t\ttime vs. voltage...\n",
      "\t\t\tpng\n",
      "\t\t\tpdf\n",
      "\t\t\tsvg\n",
      "\t\tx vs. voltage...\n",
      "\t\t\tpng\n",
      "\t\t\tpdf\n",
      "\t\t\tsvg\n",
      "\t\tcapacity vs. voltage...\n",
      "\t\t\tpng\n",
      "\t\t\tpdf\n",
      "\t\t\tsvg\n",
      "\t\tcycle number vs. capacity...\n",
      "\t\t\tpng\n",
      "\t\t\tpdf\n",
      "\t\t\tsvg\n",
      "\t\tcycle number vs. couloumbic efficiency...\n",
      "\t\t\tpng\n",
      "\t\t\tpdf\n",
      "\t\t\tsvg\n",
      "\tDone plotting data.\n",
      "\tPlease see the ['png', 'pdf', 'svg'] folders.\n",
      "--------------------------------------------------------------------------------\n",
      "Working w. file: 10_MTI_LiNMC811-LTO_14dot875.txt.\n"
     ]
    },
    {
     "name": "stdin",
     "output_type": "stream",
     "text": [
      "\n",
      "\tAvailable potentiostats:\n",
      "\t\t0\tBiologic\n",
      "\t\t1\tMTI\n",
      "\tPlease provide the index of the potentiostat used to collect the GC\n",
      "\tdata:  1\n"
     ]
    },
    {
     "name": "stdout",
     "output_type": "stream",
     "text": [
      "\n",
      "\tExtracting data...\n"
     ]
    },
    {
     "name": "stdin",
     "output_type": "stream",
     "text": [
      "\tDone extracting data.\n",
      "\n",
      "\tPlease provide the mass of the active electrode material (in mg):  14.875\n",
      "\n",
      "\tPlease provide the empirical formula, e.g. LiFePO4, of the active\n",
      "\telectrode material:  LiNi0.8Mn0.1Co0.1O2\n"
     ]
    },
    {
     "name": "stdout",
     "output_type": "stream",
     "text": [
      "\n",
      "\tCalculated molar mass for LiNi0.8Mn0.1Co0.1O2: 97.280654 g/mol\n"
     ]
    },
    {
     "name": "stdin",
     "output_type": "stream",
     "text": [
      "\n",
      "\tPlease provide the initial value for x, i.e. initial working ion content\n",
      "\tof the electrode, e.g. 1 for LiFePO4:  1\n"
     ]
    },
    {
     "name": "stdout",
     "output_type": "stream",
     "text": [
      "\n",
      "\tWorking ions...\n",
      "\t\t0\tLi\n",
      "\t\t1\tNa\n",
      "\t\t2\tMg\n"
     ]
    },
    {
     "name": "stdin",
     "output_type": "stream",
     "text": [
      "\tPlease provide the index of the working ion:  0\n"
     ]
    },
    {
     "name": "stdout",
     "output_type": "stream",
     "text": [
      "\n",
      "\tAvailable counter electrodes...\n",
      "\t\t0\tLi\n",
      "\t\t1\tNa\n",
      "\t\t2\tMg\n",
      "\t\t3\tNMC\n",
      "\t\t4\tLTO\n",
      "\t\t5\tOther\n"
     ]
    },
    {
     "name": "stdin",
     "output_type": "stream",
     "text": [
      "\tPlease provide the index of the counter electrode:  4\n"
     ]
    },
    {
     "name": "stdout",
     "output_type": "stream",
     "text": [
      "\n",
      "\tColorbar or legend...\n",
      "\t\t0\tColorbar\n",
      "\t\t1\tLegend\n"
     ]
    },
    {
     "name": "stdin",
     "output_type": "stream",
     "text": [
      "\tPlease indicate whether a colorbar or a legend is preferred:  0\n"
     ]
    },
    {
     "name": "stdout",
     "output_type": "stream",
     "text": [
      "\n",
      "\tColor types...\n",
      "\t\t0\tUser-defined sequential colormap \n",
      "\t\t1\tMatplotlib colormap\n"
     ]
    },
    {
     "name": "stdin",
     "output_type": "stream",
     "text": [
      "\tPlease provide the index to indicate whether you prefer a sequential\n",
      "\tcolormap using a user-provided color or a Matplotlib colormap:  0\n"
     ]
    },
    {
     "name": "stdout",
     "output_type": "stream",
     "text": [
      "\n",
      "\tAvailable color schemes...\n",
      "\t\t0\tred\n",
      "\t\t1\tgreen\n",
      "\t\t2\tblue\n",
      "\t\t3\tindigo\n",
      "\t\t4\tmagenta\n",
      "\t\t5\tviolet\n",
      "\t\t6\tpurple\n",
      "\t\t7\tmaroon\n",
      "\t\t8\tteal\n",
      "\t\t9\tnavy\n",
      "\t\t10\tcyan\n"
     ]
    },
    {
     "name": "stdin",
     "output_type": "stream",
     "text": [
      "\tPlease provide the index of the desired color scheme:  2\n"
     ]
    },
    {
     "name": "stdout",
     "output_type": "stream",
     "text": [
      "\n",
      "\tCalculating x-values, i.e. state of charge...\n",
      "\tDone calculating x-values.\n",
      "\n",
      "\tWriting extracted and calculated data to '10_MTI_LiNMC811-LTO_14dot875' folder.\n",
      "\tDone writing extracted and calculated data to 'txt' folder.\n",
      "\n",
      "\tPlotting data...\n",
      "\t\ttime vs. voltage...\n",
      "\t\t\tpng\n",
      "\t\t\tpdf\n",
      "\t\t\tsvg\n",
      "\t\tx vs. voltage...\n",
      "\t\t\tpng\n"
     ]
    }
   ],
   "source": [
    "for f in data_files:\n",
    "    print(f\"{80*'-'}\\nWorking w. file: {f.name}.\")\n",
    "\n",
    "    for p in output_paths:\n",
    "        if not (p / f.stem).exists():\n",
    "            (p / f.stem).mkdir()\n",
    "    txt_path_sample, png_path_sample = txt_path / f.stem, png_path / f.stem\n",
    "    pdf_path_sample, svg_path_sample = pdf_path / f.stem, svg_path / f.stem\n",
    "    gc_type = input(f\"\\n\\tAvailable potentiostats:\\n\\t\\t0\\tBiologic\\n\\t\\t1\"\n",
    "                    f\"\\tMTI\\n\\tPlease provide the index of the \"\n",
    "                    f\"potentiostat used to collect the GC\\n\\tdata: \")\n",
    "    if gc_type == \"0\":\n",
    "        print(f\"\\n\\tConverting commas to dots...\")\n",
    "        f = comma_to_dot(f, data_ctd_path)\n",
    "        header_check = biologic_header_check(f)\n",
    "        if header_check:\n",
    "            f, mass = biologic_remove_header_get_mass(f, data_nh_path)\n",
    "        else:\n",
    "            d_data = biologic_extract(f, D_HEADER_BIOLOGIC)\n",
    "            if isinstance(d_data, type(None)):\n",
    "                continue\n",
    "            d_data[\"capacity\"] = biologic_zero_capacity_if_resting(d_data)\n",
    "            mass = float(input(f\"\\tDone extracting data.\\n\\n\\tPlease \"\n",
    "                               f\"provide the mass of the active electrode \"\n",
    "                               f\"material (in mg): \"\n",
    "                               )\n",
    "                         ) * 10**-3\n",
    "    elif gc_type == \"1\":\n",
    "        print(f\"\\n\\tExtracting data...\")\n",
    "        d_data = mti_extract(f, D_INDICES)\n",
    "        mass = float(input(f\"\\tDone extracting data.\\n\\n\\tPlease \"\n",
    "                           f\"provide the mass of the active electrode \"\n",
    "                           f\"material (in mg): \"\n",
    "                           )\n",
    "                     ) * 10**-3\n",
    "    formula = input(f\"\\n\\tPlease provide the empirical formula, e.g. \"\n",
    "                    f\"LiFePO4, of the active\\n\\telectrode material: \"\n",
    "                    )\n",
    "    molar_mass = molar_mass_calc(formula)\n",
    "    print(f\"\\n\\tCalculated molar mass for {formula}: {molar_mass:.6f} \"\n",
    "          f\"g/mol\")\n",
    "    x_start = float(input(f\"\\n\\tPlease provide the initial value for x, \"\n",
    "                          f\"i.e. initial working ion content\\n\\tof the \"\n",
    "                          f\"electrode, e.g. 1 for LiFePO4: \"\n",
    "                          )\n",
    "                    )\n",
    "    print(f\"\\n\\tWorking ions...\")\n",
    "    wi_keys = list(D_WORKING_ION.keys())\n",
    "    for i,k in enumerate(wi_keys):\n",
    "        print(f\"\\t\\t{i}\\t{k}\")\n",
    "    working_ion = wi_keys[int(input(f\"\\tPlease provide the index of the \"\n",
    "                                    f\"working ion: \"))]\n",
    "    working_ion_valence = D_WORKING_ION[working_ion]\n",
    "    D_PLOT[\"x_label\"] = make_x_label(formula, working_ion)\n",
    "    print(f\"\\n\\tAvailable counter electrodes...\")\n",
    "    ce_keys = list(D_EWE_LABEL.keys())\n",
    "    for i,k in enumerate(ce_keys):\n",
    "        print(f\"\\t\\t{i}\\t{k}\")\n",
    "    D_PLOT[\"ewe_label\"] = D_EWE_LABEL[ce_keys[int(input(f\"\\tPlease provide \"\n",
    "                                                        f\"the index of the \"\n",
    "                                                        f\"counter \"\n",
    "                                                        f\"electrode: \"))]]\n",
    "    print(f\"\\n\\tColorbar or legend...\\n\\t\\t0\\tColorbar\\n\\t\\t1\\tLegend\")\n",
    "    cbar_vs_legend = input(f\"\\tPlease indicate whether a colorbar or a \"\n",
    "                           f\"legend is preferred: \")\n",
    "    if cbar_vs_legend == \"0\":\n",
    "        D_PLOT[\"cbar_legend\"] = \"cbar\"\n",
    "    else:\n",
    "        D_PLOT[\"cbar_legend\"] = \"legend\"\n",
    "    print(f\"\\n\\tColor types...\\n\\t\\t0\\tUser-defined sequential colormap \"\n",
    "          f\"\\n\\t\\t1\\tMatplotlib colormap\")\n",
    "    cmap_type = input(f\"\\tPlease provide the index to indicate whether you \"\n",
    "                      f\"prefer a sequential\\n\\tcolormap using a \"\n",
    "                      f\"user-provided color or a Matplotlib colormap: \")\n",
    "    if not cmap_type == \"1\":\n",
    "        print(f\"\\n\\tAvailable color schemes...\")\n",
    "        rgb_keys = list(D_RGB.keys())\n",
    "        for i in range(len(rgb_keys)):\n",
    "            print(f\"\\t\\t{i}\\t{rgb_keys[i]}\")\n",
    "        rgb = input(f\"\\tPlease provide the index of the desired color \"\n",
    "                    f\"scheme: \")\n",
    "        rgb = D_RGB[rgb_keys[int(rgb)]]\n",
    "        D_PLOT[\"cmap_type\"] = \"rgb\"\n",
    "        D_PLOT[\"colors\"] = LinearSegmentedColormap.from_list(\"my_gradient\", (\n",
    "                           (0.000, (0, 0, 0)),\n",
    "                           (1.000, (rgb[0] / 255, rgb[1] / 255, rgb[2] / 255)),\n",
    "                           ))\n",
    "    else:\n",
    "        print(f\"\\n\\tMatplotlib colormaps...\")\n",
    "        for i,e in enumerate(CMAPS):\n",
    "            print(f\"\\t\\t{i}\\t{e}\")\n",
    "        D_PLOT[\"cmap\"] = CMAPS[int(input(f\"\\tPlease provide the index of \"\n",
    "                                         f\"the desired colormap: \"))]\n",
    "        D_PLOT[\"colors\"] = get_cmap(D_PLOT[\"cmap\"])\n",
    "        D_PLOT[\"cmap_type\"] = \"mpl\"\n",
    "    print(\"\\n\\tCalculating x-values, i.e. state of charge...\")\n",
    "    d_data[\"x\"], d_data[\"change_indices\"] = x_calc(d_data,\n",
    "                                                   mass,\n",
    "                                                   molar_mass,\n",
    "                                                   x_start,\n",
    "                                                   working_ion_valence,\n",
    "                                                   )\n",
    "    d_data[\"capacity\"] = d_data[\"capacity\"] / mass\n",
    "    d_cycles = extract_cycles(d_data)\n",
    "    d_half_cycles = extract_half_cycles(d_data)\n",
    "    d_caps = capacities_extract(d_half_cycles)\n",
    "    print(f\"\\tDone calculating x-values.\\n\\n\\tWriting extracted and \"\n",
    "          f\"calculated data to '{txt_path_sample.name}' folder.\"\n",
    "          )\n",
    "    write(d_data, txt_path / f.stem / f.name)\n",
    "    cycles_write(d_cycles, txt_path_sample / f.name)\n",
    "    print(f\"\\tDone writing extracted and calculated data to \"\n",
    "          f\"'{txt_path.name}' folder.\\n\\n\\tPlotting data...\"\n",
    "          )\n",
    "    plot_paths_sample = [png_path_sample, pdf_path_sample, svg_path_sample]\n",
    "    plot_folders = [p.parent.name for p in plot_paths_sample]\n",
    "    print(f\"\\t\\ttime vs. voltage...\")\n",
    "    plot_time_voltage(f.stem, d_data, D_PLOT, plot_paths_sample,)\n",
    "    print(f\"\\t\\tx vs. voltage...\")\n",
    "    if D_PLOT[\"cbar_legend\"] == \"cbar\":\n",
    "        plot_x_voltage_cycles_cbar(f.stem,\n",
    "                                   d_cycles,\n",
    "                                   D_PLOT,\n",
    "                                   plot_paths_sample,\n",
    "                                   )\n",
    "    elif D_PLOT[\"cbar_legend\"] == \"legend\":\n",
    "        plot_x_voltage_cycles_legend(f.stem,\n",
    "                                     d_cycles,\n",
    "                                     D_PLOT,\n",
    "                                     plot_paths_sample,\n",
    "                                     )\n",
    "    print(f\"\\t\\tcapacity vs. voltage...\")\n",
    "    if D_PLOT[\"cbar_legend\"] == \"cbar\":\n",
    "        plot_capacity_voltage_cbar(f.stem,\n",
    "                                   d_half_cycles,\n",
    "                                   D_PLOT,\n",
    "                                   plot_paths_sample,\n",
    "                                   )\n",
    "    elif D_PLOT[\"cbar_legend\"] == \"legend\":\n",
    "        plot_capacity_voltage_legend(f.stem,\n",
    "                                     d_half_cycles,\n",
    "                                     D_PLOT,\n",
    "                                     plot_paths_sample,\n",
    "                                     )\n",
    "    print(f\"\\t\\tcycle number vs. capacity...\")\n",
    "    ax_cycles_cap = plot_cycle_capacity(f.stem,\n",
    "                                        d_caps,\n",
    "                                        D_PLOT,\n",
    "                                        plot_paths_sample,\n",
    "                                        )\n",
    "    print(f\"\\t\\tcycle number vs. couloumbic efficiency...\")\n",
    "    plot_cycle_ce(f.stem, d_caps, D_PLOT, plot_paths_sample)\n",
    "    print(f\"\\tDone plotting data.\\n\\tPlease see the {plot_folders} \"\n",
    "          f\"folders.\")\n",
    "print(f\"{80*'-'}\\nDone working with files.\")"
   ]
  },
  {
   "cell_type": "code",
   "execution_count": null,
   "id": "89a52cf9-1124-4ae3-95eb-813724afeb01",
   "metadata": {},
   "outputs": [],
   "source": []
  }
 ],
 "metadata": {
  "kernelspec": {
   "display_name": "Python 3 (ipykernel)",
   "language": "python",
   "name": "python3"
  },
  "language_info": {
   "codemirror_mode": {
    "name": "ipython",
    "version": 3
   },
   "file_extension": ".py",
   "mimetype": "text/x-python",
   "name": "python",
   "nbconvert_exporter": "python",
   "pygments_lexer": "ipython3",
   "version": "3.11.0"
  }
 },
 "nbformat": 4,
 "nbformat_minor": 5
}
