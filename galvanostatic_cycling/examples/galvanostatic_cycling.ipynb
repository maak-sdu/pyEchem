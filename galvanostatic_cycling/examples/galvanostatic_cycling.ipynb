{
 "cells": [
  {
   "cell_type": "markdown",
   "id": "8234d19b-50fa-4556-bb3a-d3dd9ddfa88e",
   "metadata": {},
   "source": [
    "# galvanostatic_cycling"
   ]
  },
  {
   "cell_type": "markdown",
   "id": "443e2afc-f253-45b8-ba2b-cdde3a26e3fa",
   "metadata": {},
   "source": [
    "## Imports"
   ]
  },
  {
   "cell_type": "code",
   "execution_count": null,
   "id": "8c6efebc-3fd9-4524-b4c2-b2bc9e48fe40",
   "metadata": {
    "tags": []
   },
   "outputs": [],
   "source": [
    "import sys\n",
    "from pathlib import Path\n",
    "import re\n",
    "from datetime import datetime\n",
    "import numpy as np\n",
    "import pandas as pd\n",
    "from scipy.constants import physical_constants\n",
    "import matplotlib.pyplot as plt\n",
    "from matplotlib.colors import LinearSegmentedColormap, ListedColormap\n",
    "from matplotlib.cm import get_cmap\n",
    "from bg_mpl_stylesheet.bg_mpl_stylesheet import bg_mpl_style\n",
    "import quantities\n",
    "import molmass"
   ]
  },
  {
   "cell_type": "code",
   "execution_count": null,
   "id": "b1bbec7f-4b36-47cd-892f-b1d3aeea69e1",
   "metadata": {},
   "outputs": [],
   "source": [
    "import pathlib\n",
    "cwd = Path.cwd()\n",
    "if type(Path.cwd()) is pathlib.PosixPath:\n",
    "    import magic\n",
    "else:\n",
    "    from winmagic import magic"
   ]
  },
  {
   "cell_type": "markdown",
   "id": "dbe8aba8-69f0-44b8-a2e0-b7e8e5298ad4",
   "metadata": {},
   "source": [
    "## User inputs"
   ]
  },
  {
   "cell_type": "markdown",
   "id": "42a13b8f-79bd-46ca-958e-94e40de7bd4d",
   "metadata": {},
   "source": [
    "### Plot settings"
   ]
  },
  {
   "cell_type": "code",
   "execution_count": null,
   "id": "e67f71cd-2c4c-4f13-a37e-f7e71e5989b0",
   "metadata": {
    "tags": []
   },
   "outputs": [],
   "source": [
    "D_PLOT = dict(dpi = 600,\n",
    "              figsize = (12,4),\n",
    "              fontsize_labels=20,\n",
    "              fontsize_ticks=14,\n",
    "              t_std_label=\"$t\\;[\\mathrm{h}]$\",\n",
    "              x_std_label=\"$x$\",\n",
    "              cap_std_label=\"$Q\\;[\\mathrm{mAh/g}]$\",\n",
    "              cycle_std_label=\"$\\mathrm{cycle}$\",\n",
    "              ce_std_label=\"$CE$\",\n",
    "              )"
   ]
  },
  {
   "cell_type": "markdown",
   "id": "ecf7e619-bc8f-49fb-927c-f8347454da9c",
   "metadata": {},
   "source": [
    "### Working electrode potential labels"
   ]
  },
  {
   "cell_type": "code",
   "execution_count": null,
   "id": "2fec86fb-f676-4425-8867-da223a7137d6",
   "metadata": {
    "tags": []
   },
   "outputs": [],
   "source": [
    "D_EWE_LABEL = dict(Li=\"$E_{\\mathrm{we}}\\;\\mathrm{vs.\\;Li/Li^{+}\\;[V]}$\",\n",
    "                   Na=\"$E_{\\mathrm{we}}\\;\\mathrm{vs.\\;Na/Na^{+}\\;[V]}$\",\n",
    "                   Mg=\"$E_{\\mathrm{we}}\\;\\mathrm{vs.\\;Mg/Mg^{2+}\\;[V]}$\",\n",
    "                   NMC=\"$E_{\\mathrm{we}}\\;\\mathrm{vs.\\;NMC\\;[V]}$\",\n",
    "                   LTO=\"$E_{\\mathrm{we}}\\;\\mathrm{vs.\\;Li_{4}Ti_{5}O_{12}\\;\"\n",
    "                       \"[V]}$\",\n",
    "                   Other=\"$E_{\\mathrm{we}}\\;[\\mathrm{V}]$\",\n",
    "                   )"
   ]
  },
  {
   "cell_type": "markdown",
   "id": "5a0d9ada-d37c-46a0-9d37-afa150dad0b6",
   "metadata": {},
   "source": [
    "### Working ion valences"
   ]
  },
  {
   "cell_type": "code",
   "execution_count": null,
   "id": "5ad647ca-d2dc-4aa9-8ca6-b100bb3a7877",
   "metadata": {
    "tags": []
   },
   "outputs": [],
   "source": [
    "D_WORKING_ION = dict(Li=1, Na=1, Mg=2)"
   ]
  },
  {
   "cell_type": "markdown",
   "id": "16169fd4-086c-4087-8ed1-8654046e5548",
   "metadata": {},
   "source": [
    "### RGB colors for user-defined colormaps"
   ]
  },
  {
   "cell_type": "code",
   "execution_count": null,
   "id": "e759b46b-7811-4dc6-a909-f06e52e9d020",
   "metadata": {
    "tags": []
   },
   "outputs": [],
   "source": [
    "D_RGB = dict(red=(255, 0, 0),\n",
    "             green=(0, 255, 0),\n",
    "             blue=(0, 0, 255),\n",
    "             indigo=(75, 0, 130),\n",
    "             magenta=(255, 0, 255),\n",
    "             violet=(138, 43, 226),\n",
    "             purple=(128, 0, 128),\n",
    "             maroon=(128, 0, 0),\n",
    "             teal=(0, 128, 128),\n",
    "             navy=(0, 0, 128),\n",
    "             cyan=(0, 255, 255),\n",
    "             )"
   ]
  },
  {
   "cell_type": "markdown",
   "id": "8f01ff40-5027-4d3f-953c-88bf376eb502",
   "metadata": {},
   "source": [
    "### Matplotlib colormaps"
   ]
  },
  {
   "cell_type": "code",
   "execution_count": null,
   "id": "e49b3536-2d1b-49ce-95bd-cb7aa121873f",
   "metadata": {
    "tags": []
   },
   "outputs": [],
   "source": [
    "CMAPS = sorted([e for e in plt.colormaps()], key=str.lower)"
   ]
  },
  {
   "cell_type": "markdown",
   "id": "061768ac-cf09-4eef-9b36-34ec1af98a64",
   "metadata": {},
   "source": [
    "### Indices used for MTI data extraction"
   ]
  },
  {
   "cell_type": "code",
   "execution_count": null,
   "id": "cade958e-a483-4196-99e9-df7ac170c9d9",
   "metadata": {
    "tags": []
   },
   "outputs": [],
   "source": [
    "D_INDICES = dict(voltage_index = 2,\n",
    "                 current_index = 3,\n",
    "                 capacity_index = 5,\n",
    "                 date_index = -2,\n",
    "                 time_index = -1,\n",
    "                 )"
   ]
  },
  {
   "cell_type": "markdown",
   "id": "e883a3b9-6424-4b10-baf8-c4631d0221a3",
   "metadata": {},
   "source": [
    "### Biologic data headers"
   ]
  },
  {
   "cell_type": "code",
   "execution_count": null,
   "id": "968b9929-7d10-4110-93cd-b1ef8413f652",
   "metadata": {
    "tags": []
   },
   "outputs": [],
   "source": [
    "D_HEADER_BIOLOGIC = dict(time=\"time/s\",\n",
    "                         voltage=\"Ewe/V\",\n",
    "                         current=\"<I>/mA\",\n",
    "                         x=\"x\",\n",
    "                         capacity=\"Capacity/mA.h\",\n",
    "                         )"
   ]
  },
  {
   "cell_type": "markdown",
   "id": "dee07030-4236-40d4-b4c9-1a85d5dad315",
   "metadata": {},
   "source": [
    "### Potentiostats"
   ]
  },
  {
   "cell_type": "code",
   "execution_count": null,
   "id": "15744b4f-6fc0-4f43-b2ca-568b7b520b23",
   "metadata": {
    "tags": []
   },
   "outputs": [],
   "source": [
    "D_POTENTIOSTATS = {\"0\": \"Biologic\", \"1\": \"MTI\"}"
   ]
  },
  {
   "cell_type": "markdown",
   "id": "3b485a61-2161-4492-8479-aee6d4c9db0d",
   "metadata": {},
   "source": [
    "### Plot modes"
   ]
  },
  {
   "cell_type": "code",
   "execution_count": null,
   "id": "8de4eebf-5ef0-4d81-aad5-69d0b92aea39",
   "metadata": {
    "tags": []
   },
   "outputs": [],
   "source": [
    "D_PLOT_MODES = {\"0\": \"Colorbar\", \"1\": \"Legend\"}"
   ]
  },
  {
   "cell_type": "markdown",
   "id": "cd4c2936-0f75-46e2-9142-4dc93fb2a9ee",
   "metadata": {},
   "source": [
    "### Colormaps"
   ]
  },
  {
   "cell_type": "code",
   "execution_count": null,
   "id": "ffdf8b20-c0e7-4859-bd70-5f9f270010c5",
   "metadata": {
    "tags": []
   },
   "outputs": [],
   "source": [
    "D_CMAPS = {\"0\": \"User-defined (from black to user-defined color)\",\n",
    "           \"1\": \"Matplotlib colormap\",}"
   ]
  },
  {
   "cell_type": "markdown",
   "id": "25fedfb6-9ac1-4443-a9e6-08ee02aaa180",
   "metadata": {},
   "source": [
    "## Biologic-specific functions"
   ]
  },
  {
   "cell_type": "code",
   "execution_count": null,
   "id": "ad104668-d802-414a-97fc-6e20d85d6349",
   "metadata": {
    "tags": []
   },
   "outputs": [],
   "source": [
    "def biologic_header_check(file):\n",
    "    with file.open(mode=\"r\") as f:\n",
    "        lines = f.readlines()\n",
    "    header_check = \"EC-Lab\" in lines[0]\n",
    "\n",
    "    return header_check\n",
    "\n",
    "\n",
    "def biologic_remove_header_get_mass(file, output_path):\n",
    "    with file.open(mode=\"r\") as f:\n",
    "        lines = f.readlines()\n",
    "    header_lines = int(lines[1].split()[-1])\n",
    "    for line in lines:\n",
    "        if \"Characteristic mass\" in line:\n",
    "            mass = float(line.split()[-2])\n",
    "    output_path = output_path / file.name\n",
    "    with output_path.open(mode=\"w\") as o:\n",
    "        o.writelines(lines[header_lines-1::])\n",
    "\n",
    "    return output_path, mass\n",
    "\n",
    "\n",
    "def biologic_extract(file, d_keys):\n",
    "    df = pd.read_csv(file, delimiter=\"\\t\")\n",
    "    keys = list(d_keys.keys())\n",
    "    d = {}\n",
    "    for k in keys:\n",
    "        try:\n",
    "            d[k] = df[d_keys[k]].to_numpy()\n",
    "        except KeyError:\n",
    "            print(f\"\\t{72*'*'}\\n\\tKeyError\\n\\tThe key '{d_keys[k]}' was \"\n",
    "                 f\"missing from\\n\\t\\t{file.name}\\n\\tPlease re-export the \"\n",
    "                 f\"Biologic data with the following keys (and data)\\n\\t\"\n",
    "                 f\"present:\")\n",
    "            for key in keys:\n",
    "                print(f\"\\t\\t{d_keys[key]}\")\n",
    "            print(f\"\\t{72*'*'}\\nSkipping this file.\")\n",
    "\n",
    "            return None\n",
    "\n",
    "    time, capacity = d[\"time\"], d[\"capacity\"]\n",
    "    time_cycle_start = np.array([])\n",
    "    for i in range(len(capacity)):\n",
    "        if 10**-10 < capacity[i] < capacity[i-1]:\n",
    "            time_cycle_start = np.append(time_cycle_start, time[i])\n",
    "    d[\"time_cycle_start\"] = time_cycle_start\n",
    "\n",
    "    return d\n",
    "\n",
    "\n",
    "def biologic_zero_capacity_if_resting(d):\n",
    "    current, capacity = d[\"current\"], d[\"capacity\"]\n",
    "    capacity_new = np.array([])\n",
    "    for i in range(len(current)):\n",
    "        if current[i] == 0:\n",
    "            capacity_new = np.append(capacity_new, 0)\n",
    "        else:\n",
    "            capacity_new = np.append(capacity_new, capacity[i])\n",
    "\n",
    "    return capacity_new\n",
    "\n",
    "\n",
    "def biologic_merge_capacities(d):\n",
    "    capacity_charge = d[\"capacity_charge\"]\n",
    "    capacity_discharge = d[\"capacity_discharge\"]\n",
    "    capacity = np.array([])\n",
    "    for i in range(len(capacity_charge)):\n",
    "        if capacity_charge[i] > 10**-10:\n",
    "            capacity = np.append(capacity, capacity_charge[i])\n",
    "        else:\n",
    "            capapacity = np.append(capacity, capacity_discharge[i])\n",
    "    d[\"capacity\"] = capacity\n",
    "\n",
    "    return d"
   ]
  },
  {
   "cell_type": "markdown",
   "id": "3ad999a6-957d-4030-963e-7cd007355674",
   "metadata": {},
   "source": [
    "## MTI-specific functions"
   ]
  },
  {
   "cell_type": "code",
   "execution_count": null,
   "id": "2e32989c-301e-4904-a1e3-3dd1c2b38e52",
   "metadata": {
    "tags": []
   },
   "outputs": [],
   "source": [
    "def mti_extract(file, d_indices):\n",
    "    with file.open(mode=\"r\") as f:\n",
    "        lines = f.readlines()\n",
    "    header = lines[0:3]\n",
    "    lines = lines[3::]\n",
    "    modes = [\"Rest\", \"CC_Chg\", \"CC_DChg\"]\n",
    "    start = None\n",
    "    for i, line in enumerate(lines):\n",
    "        line = line.split()\n",
    "        for e in modes:\n",
    "            if e in line:\n",
    "                start = i + 1\n",
    "                break\n",
    "        if not isinstance(start, type(None)):\n",
    "            break\n",
    "    cols = len(lines[start].split())\n",
    "    cols_cycles = len(lines[start-2].split())\n",
    "    time_cycle_start = []\n",
    "    for i in range(len(lines)):\n",
    "        line_split = lines[i].split()\n",
    "        if len(line_split) == cols_cycles:\n",
    "            line_split_data = lines[i+2].split()\n",
    "            date_split = line_split_data[d_indices[\"date_index\"]].split(\"-\")\n",
    "            time_split = line_split_data[d_indices[\"time_index\"]].split(\":\")\n",
    "            time_cycle_start.append(datetime(int(date_split[0]),\n",
    "                                             int(date_split[1]),\n",
    "                                             int(date_split[2]),\n",
    "                                             int(time_split[0]),\n",
    "                                             int(time_split[1]),\n",
    "                                             int(time_split[2])\n",
    "                                             ).timestamp()\n",
    "                                    )\n",
    "    time_cycle_start = np.array(time_cycle_start)\n",
    "    time_cycle_start = time_cycle_start - time_cycle_start[0]\n",
    "    voltage, current, capacity, date, time, date_time = [], [], [], [], [], []\n",
    "    for i in range(start, len(lines)):\n",
    "        line = lines[i].split()\n",
    "        if len(line) == cols:\n",
    "            voltage.append(float(line[d_indices[\"voltage_index\"]]))\n",
    "            current.append(float(line[d_indices[\"current_index\"]]))\n",
    "            capacity.append(float(line[d_indices[\"capacity_index\"]]))\n",
    "            date.append(line[d_indices[\"date_index\"]])\n",
    "            time.append(line[d_indices[\"time_index\"]])\n",
    "    for i in range(len(date)):\n",
    "        date_split = date[i].split(\"-\")\n",
    "        time_split = time[i].split(\":\")\n",
    "        date_time.append(datetime(int(date_split[0]),\n",
    "                                  int(date_split[1]),\n",
    "                                  int(date_split[2]),\n",
    "                                  int(time_split[0]),\n",
    "                                  int(time_split[1]),\n",
    "                                  int(time_split[2])\n",
    "                                  ).timestamp()\n",
    "                        )\n",
    "    voltage, current = np.array(voltage), np.array(current) * 10**-3\n",
    "    capacity = np.array(capacity)\n",
    "    date_time = np.array(date_time)\n",
    "    time = date_time - date_time[0]\n",
    "    d = dict(time=time,\n",
    "             voltage=voltage,\n",
    "             current=current,\n",
    "             capacity=capacity,\n",
    "             time_cycle_start=time_cycle_start,\n",
    "             )\n",
    "\n",
    "    return d"
   ]
  },
  {
   "cell_type": "markdown",
   "id": "e93434a5-8a1e-4f34-97e0-ac244a04c335",
   "metadata": {},
   "source": [
    "## General functions"
   ]
  },
  {
   "cell_type": "markdown",
   "id": "737711ee-b61d-4867-9e25-1d0ebafa1f03",
   "metadata": {},
   "source": [
    "### Miscellaneous"
   ]
  },
  {
   "cell_type": "code",
   "execution_count": null,
   "id": "00a6cd85-9a39-45aa-b07b-66b159e89d1d",
   "metadata": {
    "tags": []
   },
   "outputs": [],
   "source": [
    "def comma_to_dot(file, output_path, encoding):\n",
    "    with file.open(mode=\"r\", encoding=encoding) as f:\n",
    "        s = f.read().replace(\",\", \".\")\n",
    "    output_path = output_path / file.name\n",
    "    with output_path.open(mode=\"w\") as o:\n",
    "        o.write(s)\n",
    "\n",
    "    return output_path\n",
    "\n",
    "\n",
    "def make_x_label(formula, working_ion):\n",
    "    elements = re.sub( r\"([A-Z])\", r\" \\1\", formula).split()\n",
    "    xlabel = \"$x\\;\\mathrm{in\\;\"\n",
    "    for i,e in enumerate(elements):\n",
    "        s = re.split('(\\d.*)', e)\n",
    "        if i == 0:\n",
    "            if s[0] != working_ion:\n",
    "                xlabel += working_ion + \"}_{x}\\mathrm{\" + s[0]\n",
    "            else:\n",
    "                xlabel += str(s[0]) + \"}_{x}\\mathrm{\"\n",
    "        else:\n",
    "            xlabel += str(s[0])\n",
    "            if len(s) != 1:\n",
    "                xlabel += \"_{\" + str(s[1]) + \"}\"\n",
    "    xlabel += \"}$\"\n",
    "\n",
    "    return xlabel\n",
    "\n",
    "\n",
    "def half_cycles_start(d):\n",
    "    time, current = d[\"time\"], d[\"current\"]\n",
    "    half_cycles_start = np.array([i for i in range(1, len(current))\n",
    "                                  if current[i] != 0\n",
    "                                  and current[i] * current[i-1] <= 0\n",
    "                                  ])\n",
    "\n",
    "    return half_cycles_start\n",
    "\n",
    "\n",
    "def half_cycles_end(d):\n",
    "    time, current = d[\"time\"], d[\"current\"]\n",
    "    half_cycles_end = np.array([i for i in range(1, len(current))\n",
    "                                if current[i-1] != 0\n",
    "                                and current[-1] * current[i] <= 0\n",
    "                                ])\n",
    "\n",
    "    return half_cycles_end\n",
    "\n",
    "\n",
    "def merge_half_cycles_to_cycles(d):\n",
    "    half_cycles = list(d.keys())\n",
    "    keys = list(d[half_cycles[0]].keys())\n",
    "    d_cycles = {}\n",
    "    counter = 0\n",
    "    for i in range(len(half_cycles)):\n",
    "        if i % 2 == 0:\n",
    "            d_cycles[counter] = {}\n",
    "            for k in keys:\n",
    "                d_cycles[counter][k] = d[half_cycles[i]][k]\n",
    "        else:\n",
    "            for k in keys:\n",
    "                d_cycles[counter][k] = np.append(d_cycles[counter][k],\n",
    "                                                 d[half_cycles[i]][k],\n",
    "                                                 )\n",
    "            counter += 1\n",
    "\n",
    "    return d_cycles"
   ]
  },
  {
   "cell_type": "markdown",
   "id": "7b84876a-9c42-4150-a69e-9014b86824a6",
   "metadata": {},
   "source": [
    "### Calculators"
   ]
  },
  {
   "cell_type": "code",
   "execution_count": null,
   "id": "3a6984d2-b92f-4579-bb2c-720d3bf320d0",
   "metadata": {
    "tags": []
   },
   "outputs": [],
   "source": [
    "def molar_mass_calc(formula, working_ion, x_start, x_molmass):\n",
    "    elements = re.sub( r\"([A-Z])\", r\" \\1\", formula).split()\n",
    "    molar_mass, formula = 0, \"\"\n",
    "    for i, e in enumerate(elements):\n",
    "        s = re.split('(\\d.*)', e)\n",
    "        if len(s) == 1:\n",
    "            s.append(1)\n",
    "        if s[-1] == \"\":\n",
    "            s = s[0:-1]\n",
    "        if i == 0:\n",
    "            if s[0] == working_ion:\n",
    "                if x_molmass != 0:\n",
    "                    f = molmass.Formula(working_ion)\n",
    "                    m = float(x_molmass) * f.mass\n",
    "                    if x_molmass != 1:\n",
    "                        formula += f\"{working_ion}{x_molmass}\"\n",
    "                    else:\n",
    "                        formula += working_ion\n",
    "                else:\n",
    "                    m = 0\n",
    "            else:\n",
    "                if x_molmass != 0:\n",
    "                    f = molmass.Formula(working_ion)\n",
    "                    m = float(x_molmass) * f.mass\n",
    "                    if molmass != 1:\n",
    "                        formula += f\"{working_ion}{x_molmass}\"\n",
    "                    else:\n",
    "                        formula += working_ion\n",
    "                f = molmass.Formula(s[0])\n",
    "                m = m + (float(s[1]) * f.mass)\n",
    "                if s[1] != 1:\n",
    "                    formula += f\"{s[0]}{s[1]}\"\n",
    "                else:\n",
    "                    formula += s[0]\n",
    "        else:\n",
    "            f = molmass.Formula(s[0])\n",
    "            m = float(s[1]) * f.mass\n",
    "            if s[1] != 1:\n",
    "                formula += f\"{s[0]}{s[1]}\"\n",
    "            else:\n",
    "                formula += s[0]\n",
    "        molar_mass += m\n",
    "\n",
    "    return molar_mass, formula\n",
    "\n",
    "\n",
    "def x_calc(d, mass, molar_mass, x_start, working_ion_valence):\n",
    "    time, current = d[\"time\"], d[\"current\"]\n",
    "    n = mass / molar_mass\n",
    "    f = physical_constants[\"Faraday constant\"][0]\n",
    "    x = [x_start]\n",
    "    for i in range(1, len(time)):\n",
    "        delta_q =  current[i] * (time[i] - time[i-1]) / working_ion_valence\n",
    "        delta_x = - delta_q / (n * f)\n",
    "        x.append(x[i-1] + delta_x)\n",
    "    x = np.array(x)\n",
    "\n",
    "    return x"
   ]
  },
  {
   "cell_type": "markdown",
   "id": "a4d208bf-ba02-4725-9caf-0be142b109c3",
   "metadata": {},
   "source": [
    "### Extractors"
   ]
  },
  {
   "cell_type": "code",
   "execution_count": null,
   "id": "ddc61f72-c7c9-45f3-b8ec-764a379d2f06",
   "metadata": {
    "tags": []
   },
   "outputs": [],
   "source": [
    "def extract_cycles(d):\n",
    "    time_cycle_start = d[\"time_cycle_start\"]\n",
    "    time, voltage, current, x = d[\"time\"], d[\"voltage\"], d[\"current\"], d[\"x\"]\n",
    "    capacity = d[\"capacity\"]\n",
    "    cycle_start_indices = []\n",
    "    for i in range(len(time_cycle_start)):\n",
    "        for j in range(len(time)):\n",
    "            if time_cycle_start[i] == time[j]:\n",
    "                if len(cycle_start_indices) > 0:\n",
    "                    if time[j] - time[cycle_start_indices[-1]] > 0:\n",
    "                        cycle_start_indices.append(j)\n",
    "                else:\n",
    "                    cycle_start_indices.append(j)\n",
    "    d_cycles = {}\n",
    "    for i in range(len(cycle_start_indices)-1):\n",
    "        d_cycles[i] = dict(time = time[cycle_start_indices[i]:\n",
    "                                       cycle_start_indices[i+1]\n",
    "                                       ],\n",
    "                           voltage = voltage[cycle_start_indices[i]:\n",
    "                                             cycle_start_indices[i+1]\n",
    "                                             ],\n",
    "                           current = current[cycle_start_indices[i]:\n",
    "                                             cycle_start_indices[i+1]\n",
    "                                             ],\n",
    "                           capacity = capacity[cycle_start_indices[i]:\n",
    "                                               cycle_start_indices[i+1]\n",
    "                                               ],\n",
    "                           x = x[cycle_start_indices[i]:\n",
    "                                 cycle_start_indices[i+1]\n",
    "                                 ],\n",
    "                           )\n",
    "    d_cycles[i+1] = dict(time = time[cycle_start_indices[i+1]::],\n",
    "                         voltage = voltage[cycle_start_indices[i+1]:],\n",
    "                         current = current[cycle_start_indices[i+1]:],\n",
    "                         x = x[cycle_start_indices[i+1]:],\n",
    "                         capacity = capacity[cycle_start_indices[i+1]:],\n",
    "                         )\n",
    "\n",
    "    return d_cycles\n",
    "\n",
    "\n",
    "def extract_half_cycles(d):\n",
    "    time_cycle_start = d[\"time_cycle_start\"]\n",
    "    time, voltage, current, x = d[\"time\"], d[\"voltage\"], d[\"current\"], d[\"x\"]\n",
    "    capacity = d[\"capacity\"]\n",
    "    current_end_indices = []\n",
    "    for i in range(1, len(current)):\n",
    "        if current[i-1] != 0 and current[i] == 0:\n",
    "            current_end_indices.append(i)\n",
    "    d_half_cycles = {\"0\": dict(time=time[0:current_end_indices[0]],\n",
    "                               voltage=voltage[0:current_end_indices[0]],\n",
    "                               current=current[0:current_end_indices[0]],\n",
    "                               capacity=capacity[0:current_end_indices[0]],\n",
    "                               x=x[0:current_end_indices[0]],\n",
    "                               )\n",
    "                    }\n",
    "    for i in range(len(current_end_indices)-1):\n",
    "        d_half_cycles[i+1] = dict(time=time[current_end_indices[i]:\n",
    "                                            current_end_indices[i+1]\n",
    "                                            ],\n",
    "                                  voltage=voltage[current_end_indices[i]:\n",
    "                                                  current_end_indices[i+1]\n",
    "                                                  ],\n",
    "                                  current=current[current_end_indices[i]:\n",
    "                                                  current_end_indices[i+1]\n",
    "                                                  ],\n",
    "                                  capacity=capacity[current_end_indices[i]:\n",
    "                                                    current_end_indices[i+1]\n",
    "                                                    ],\n",
    "                                  x=x[current_end_indices[i]:\n",
    "                                      current_end_indices[i+1]\n",
    "                                      ],\n",
    "                                  )\n",
    "    d_half_cycles[i+2] = dict(time=time[current_end_indices[i+1]:],\n",
    "                              voltage=voltage[current_end_indices[i+1]:],\n",
    "                              current=current[current_end_indices[i+1]:],\n",
    "                              capacity=capacity[current_end_indices[i+1]:],\n",
    "                              x=x[current_end_indices[i+1]:],\n",
    "                              )\n",
    "\n",
    "    return d_half_cycles\n",
    "\n",
    "\n",
    "def capacities_extract(d):\n",
    "    half_cycles = list(d.keys())\n",
    "    cap_charge, cap_discharge = [], []\n",
    "    for e in half_cycles:\n",
    "        current, capacity = d[e][\"current\"], d[e][\"capacity\"]\n",
    "        if current[-1] > 10**-5:\n",
    "            cap_charge.append(capacity[-1])\n",
    "        else:\n",
    "            cap_discharge.append(capacity[-1])\n",
    "    cap_charge, cap_discharge = np.array(cap_charge), np.array(cap_discharge)\n",
    "    if len(cap_charge) == len(cap_discharge):\n",
    "        coulomb_eff = cap_discharge / cap_charge\n",
    "    elif len(cap_charge) > len(cap_discharge):\n",
    "        coulomb_eff = cap_discharge / cap_charge[0:len(cap_discharge)]\n",
    "    elif len(cap_charge) < len(cap_discharge):\n",
    "        coulomb_eff = cap_discharge[0:len(cap_charge)] / cap_charge\n",
    "    d_caps = dict(charge=cap_charge,\n",
    "                  discharge=cap_discharge,\n",
    "                  coulomb_eff=coulomb_eff,\n",
    "                  )\n",
    "\n",
    "    return d_caps\n"
   ]
  },
  {
   "cell_type": "markdown",
   "id": "9770db8e-ec59-4ccf-88c6-16bc5c8a1e83",
   "metadata": {},
   "source": [
    "### Writers"
   ]
  },
  {
   "cell_type": "code",
   "execution_count": null,
   "id": "2059b0da-4c8d-44b3-b458-38e1dcfd9cbf",
   "metadata": {
    "tags": []
   },
   "outputs": [],
   "source": [
    "def write(d, output_path):\n",
    "    keys = list(d.keys())\n",
    "    header = f\"t [s]\\tV [V]\\tI [A]\\tQ [mAh/g]\\tx\"\n",
    "    array = d[keys[0]]\n",
    "    for i in range(1, len(keys)):\n",
    "        if not keys[i] in [\"half_cycles_start\",\n",
    "                           \"half_cycles_end\",\n",
    "                           \"time_cycle_start\",\n",
    "                           ]:\n",
    "            array = np.column_stack((array, d[keys[i]]))\n",
    "    np.savetxt(output_path,\n",
    "               array,\n",
    "               header=header,\n",
    "               fmt=\"%.6e\",\n",
    "               delimiter=\"\\t\",\n",
    "               encoding=\"utf8\",\n",
    "               )\n",
    "\n",
    "    return None\n",
    "\n",
    "\n",
    "def cycles_write(d, output_path):\n",
    "    cycles = list(d.keys())\n",
    "    for cycle in cycles:\n",
    "        keys = list(d[cycle].keys())\n",
    "        header = f\"t [s]\\tV [V]\\tI [A]\\tQ [mAh/g]\\tx\"\n",
    "        array = d[cycle][keys[0]]\n",
    "        for i in range(1, len(keys)):\n",
    "            array = np.column_stack((array, d[cycle][keys[i]]))\n",
    "        cycle = cycle + 1\n",
    "        zfill = str(cycle).zfill(2)\n",
    "        fname = f\"{output_path.stem}_cycle-{zfill}{output_path.suffix}\"\n",
    "        output_path_cycle = output_path.parent / fname\n",
    "        np.savetxt(output_path_cycle,\n",
    "                   array,\n",
    "                   header=header,\n",
    "                   fmt=\"%.6e\",\n",
    "                   delimiter=\"\\t\",\n",
    "                   encoding=\"utf8\",\n",
    "                   )\n",
    "\n",
    "    return None\n",
    "\n",
    "\n",
    "def formula_molarmass_write(formula, molmass, output_path):\n",
    "    s = f\"formula: {formula}\\nmolar mass: {molmass:.6f} g/mol\"\n",
    "    output_path = output_path / \"formula_molarmass.txt\"\n",
    "    with output_path.open(mode=\"w\") as o:\n",
    "        o.write(s)\n",
    "\n",
    "    return None"
   ]
  },
  {
   "cell_type": "markdown",
   "id": "754b851c-9c85-41de-8d40-fa9934c68492",
   "metadata": {},
   "source": [
    "### Plotters"
   ]
  },
  {
   "cell_type": "code",
   "execution_count": null,
   "id": "7b1216e4-5498-42fb-8d30-7ea71b2dbf64",
   "metadata": {
    "tags": []
   },
   "outputs": [],
   "source": [
    "def plot_time_voltage(filename, d_data, d_plot, plot_paths):\n",
    "    time, voltage = d_data[\"time\"]*60**-2, d_data[\"voltage\"]\n",
    "    plt.style.use(bg_mpl_style)\n",
    "    fig, ax = plt.subplots(dpi=d_plot[\"dpi\"], figsize=d_plot[\"figsize\"])\n",
    "    colors = d_plot[\"colors\"](np.linspace(0, 1, 10))\n",
    "    ax.plot(time, voltage, c=colors[-2])\n",
    "    ax.set_xlabel(d_plot[\"t_std_label\"], fontsize=d_plot[\"fontsize_labels\"])\n",
    "    ax.set_ylabel(d_plot[\"ewe_label\"], fontsize=d_plot[\"fontsize_labels\"])\n",
    "    ax.tick_params(axis=\"both\", labelsize=d_plot[\"fontsize_ticks\"])\n",
    "    ax.minorticks_on()\n",
    "    ax.set_xlim(np.amin(time), np.amax(time))\n",
    "    for p in plot_paths:\n",
    "        # print(f\"\\t\\t\\t{p.parent.name}\")\n",
    "        output_path = p / f\"{filename}_t-ewe.{p.parent.name}\"\n",
    "        plt.savefig(output_path, bbox_inches=\"tight\")\n",
    "    # plt.close()\n",
    "    plt.show()\n",
    "\n",
    "    return None\n",
    "\n",
    "\n",
    "def plot_x_voltage(filename, d_data, d_plot, plot_paths):\n",
    "    x, voltage = d_data[\"x\"], d_data[\"voltage\"]\n",
    "    plt.style.use(bg_mpl_style)\n",
    "    colors = d_plot[\"colors\"](np.linspace(0, 1, 3))\n",
    "    fig, ax = plt.subplots(dpi=d_plot[\"dpi\"], figsize=d_plot[\"figsize\"])\n",
    "    ax.plot(x, voltage, color=colors[1])\n",
    "    ax.set_xlabel(d_plot[\"x_std_label\"], fontsize=d_plot[\"fontsize_labels\"])\n",
    "    ax.set_ylabel(d_plot[\"ewe_label\"], fontsize=d_plot[\"fontsize_labels\"])\n",
    "    ax.tick_params(axis=\"both\", labelsize=d_plot[\"fontsize_ticks\"])\n",
    "    ax.minorticks_on()\n",
    "    ax.set_xlim(np.amin(x), np.amax(x))\n",
    "    for p in plot_paths:\n",
    "        # print(f\"\\t\\t\\t{p.parent.name}\")\n",
    "        output_path = p / f\"{filename}_x-ewe.{p.parent.name}\"\n",
    "        plt.savefig(output_path, bbox_inches=\"tight\")\n",
    "    # plt.close()\n",
    "    plt.show()\n",
    "\n",
    "    return None\n",
    "\n",
    "\n",
    "def plot_x_voltage_cycles_cbar(filename, d, d_plot, plot_paths, save=True):\n",
    "    half_cycles = list(d.keys())\n",
    "    n_cycles = int(np.ceil(len(half_cycles) / 2))\n",
    "    colors = d_plot[\"colors\"](np.linspace(0, 1, n_cycles))\n",
    "    plt.style.use(bg_mpl_style)\n",
    "    fig, axs = plt.subplots(dpi=d_plot[\"dpi\"],\n",
    "                            figsize=d_plot[\"figsize\"],\n",
    "                            ncols=2,\n",
    "                            gridspec_kw=dict(width_ratios=[1, 0.01]),\n",
    "                            )\n",
    "    xmin, xmax = [], []\n",
    "    counter = 0\n",
    "    for i in range(len(half_cycles)):\n",
    "        x, voltage = d[half_cycles[i]][\"x\"], d[half_cycles[i]][\"voltage\"]\n",
    "        xmin.append(np.amin(x))\n",
    "        xmax.append(np.amax(x))\n",
    "        if i % 2 == 0:\n",
    "            counter += 1\n",
    "            label = str(counter)\n",
    "        else:\n",
    "            label = None\n",
    "        axs[0].plot(x, voltage, label=label, c=colors[counter-1])\n",
    "    xmin, xmax = np.amin(np.array(xmin)), np.amax(np.array(xmax))\n",
    "    xrange = xmax - xmin\n",
    "    axs[0].set_xlabel(d_plot[\"x_label\"],\n",
    "                      fontsize=d_plot[\"fontsize_labels\"],\n",
    "                      )\n",
    "    axs[0].set_ylabel(d_plot[\"ewe_label\"],\n",
    "                      fontsize=d_plot[\"fontsize_labels\"],\n",
    "                      )\n",
    "    axs[0].tick_params(axis=\"both\", labelsize=d_plot[\"fontsize_ticks\"])\n",
    "    axs[0].minorticks_on()\n",
    "    axs[0].set_xlim(xmin - 0.01 * xrange, xmax + 0.01 * xrange)\n",
    "    sm = plt.cm.ScalarMappable(cmap=d_plot[\"colors\"].reversed(),\n",
    "                               norm=plt.Normalize(vmin=0, vmax=1),\n",
    "                               )\n",
    "    cbar = plt.colorbar(sm,\n",
    "                        cax=axs[1],\n",
    "                        ticks=[0, 1],\n",
    "                        )\n",
    "    cbar.ax.set_yticklabels([\"end\", \"start\"])\n",
    "    cbar.ax.tick_params(axis=\"y\")\n",
    "    plt.subplots_adjust(wspace=0.05)\n",
    "    for p in plot_paths:\n",
    "        # print(f\"\\t\\t\\t{p.parent.name}\")\n",
    "        output_path = p / f\"{filename}_x-ewe.{p.parent.name}\"\n",
    "        plt.savefig(output_path, bbox_inches=\"tight\")\n",
    "    # plt.close()\n",
    "    plt.show()\n",
    "\n",
    "    return None\n",
    "\n",
    "\n",
    "def plot_x_voltage_cycles_legend(filename, d, d_plot, plot_paths):\n",
    "    half_cycles = list(d.keys())\n",
    "    n_cycles = int(np.ceil(len(half_cycles) / 2))\n",
    "    colors = d_plot[\"colors\"](np.linspace(0, 1, n_cycles))\n",
    "    plt.style.use(bg_mpl_style)\n",
    "    fig, ax = plt.subplots(dpi=d_plot[\"dpi\"],\n",
    "                            figsize=d_plot[\"figsize\"],\n",
    "                            )\n",
    "    xmin, xmax = [], []\n",
    "    counter = 0\n",
    "    for i in range(len(half_cycles)):\n",
    "        x, voltage = d[half_cycles[i]][\"x\"], d[half_cycles[i]][\"voltage\"]\n",
    "        xmin.append(np.amin(x))\n",
    "        xmax.append(np.amax(x))\n",
    "        if i % 2 == 0:\n",
    "            counter += 1\n",
    "            label = str(counter)\n",
    "        else:\n",
    "            label = None\n",
    "        ax.plot(x, voltage, label=label, c=colors[counter-1])\n",
    "    xmin, xmax = np.amin(np.array(xmin)), np.amax(np.array(xmax))\n",
    "    xrange = xmax - xmin\n",
    "    ax.set_xlabel(d_plot[\"x_label\"], fontsize=d_plot[\"fontsize_labels\"])\n",
    "    ax.set_ylabel(d_plot[\"ewe_label\"], fontsize=d_plot[\"fontsize_labels\"])\n",
    "    ax.tick_params(axis=\"both\", labelsize=d_plot[\"fontsize_ticks\"])\n",
    "    ax.minorticks_on()\n",
    "    ax.set_xlim(xmin - 0.01 * xrange, xmax + 0.01 * xrange)\n",
    "    if np.ceil(len(half_cycles) / 2) <= 7:\n",
    "        ncols = int(np.ceil(len(half_cycles) / 2))\n",
    "        offset = 0.15\n",
    "    else:\n",
    "        ncols = 8\n",
    "        if 1 < (len(half_cycles) / 2) / ncols <= 2:\n",
    "            offset = 0.25\n",
    "        elif 2 < (len(half_cycles) / 2) / ncols <= 3:\n",
    "            offset = 0.375\n",
    "        elif 3 < (len(half_cycles) / 2) / ncols <= 4:\n",
    "            offset = 0.45\n",
    "        elif 4 < (len(half_cycles) / 2) / ncols <= 5:\n",
    "            offset = 0.55\n",
    "        else:\n",
    "            print(f\"\\t\\t\\tToo many cycles to get right offset for legend.\\n\"\n",
    "                  f\"\\t\\t\\tSetting legend offset to 0.\\n\\t\\t\\tPlease \"\n",
    "                  f\"consider using a colorbar instead of a legend.\\n\")\n",
    "            offset = 0\n",
    "    handles, labels = ax.get_legend_handles_labels()\n",
    "    handles_sorted, labels_sorted = [], []\n",
    "    for i in range(ncols):\n",
    "        for j in range(len(labels)):\n",
    "            if (int(labels[j]) + ncols - 1) % ncols == i:\n",
    "                handles_sorted.append(handles[j])\n",
    "                labels_sorted.append(labels[j])\n",
    "    ax.legend(handles=handles_sorted,\n",
    "              labels=labels_sorted,\n",
    "              loc=\"upper center\",\n",
    "              bbox_to_anchor=(0.5, 1 + offset),\n",
    "              ncols=ncols,\n",
    "              framealpha=0,\n",
    "              )\n",
    "    for p in plot_paths:\n",
    "        # print(f\"\\t\\t\\t{p.parent.name}\")\n",
    "        output_path = p / f\"{filename}_x-ewe.{p.parent.name}\"\n",
    "        plt.savefig(output_path, bbox_inches=\"tight\")\n",
    "    # plt.close()\n",
    "    plt.show()\n",
    "\n",
    "    return None\n",
    "\n",
    "\n",
    "def plot_capacity_voltage_cbar(filename, d, d_plot, plot_paths):\n",
    "    half_cycles = list(d.keys())\n",
    "    n_cycles = int(np.ceil(len(half_cycles) / 2))\n",
    "    plt.style.use(bg_mpl_style)\n",
    "    colors = d_plot[\"colors\"](np.linspace(0, 1, n_cycles))\n",
    "    fig, axs = plt.subplots(dpi=d_plot[\"dpi\"],\n",
    "                            figsize=d_plot[\"figsize\"],\n",
    "                            ncols=2,\n",
    "                            gridspec_kw=dict(width_ratios=[1, 0.01]),\n",
    "                            )\n",
    "    xmin, xmax = [], []\n",
    "    counter = 0\n",
    "    for i in range(len(half_cycles)):\n",
    "        capacity = d[half_cycles[i]][\"capacity\"]\n",
    "        voltage = d[half_cycles[i]][\"voltage\"]\n",
    "        xmin.append(np.amin(capacity))\n",
    "        xmax.append(np.amax(capacity))\n",
    "        if i % 2 == 0:\n",
    "            counter += 1\n",
    "            label = str(counter)\n",
    "        else:\n",
    "            label = None\n",
    "        axs[0].plot(capacity, voltage, label=label, c=colors[counter-1])\n",
    "    axs[0].set_xlabel(d_plot[\"cap_std_label\"], fontsize=d_plot[\"fontsize_labels\"])\n",
    "    axs[0].set_ylabel(d_plot[\"ewe_label\"], fontsize=d_plot[\"fontsize_labels\"])\n",
    "    axs[0].tick_params(axis=\"both\", labelsize=d_plot[\"fontsize_ticks\"])\n",
    "    axs[0].minorticks_on()\n",
    "    xmin, xmax = np.amin(np.array(xmin)), np.amax(np.array(xmax))\n",
    "    xrange = xmax - xmin\n",
    "    axs[0].set_xlim(xmin - (0.01 * xrange), xmax + (0.01 * xrange))\n",
    "    sm = plt.cm.ScalarMappable(cmap=d_plot[\"colors\"].reversed(),\n",
    "                               norm=plt.Normalize(vmin=0, vmax=1),\n",
    "                               )\n",
    "    cbar = plt.colorbar(sm,\n",
    "                        cax=axs[1],\n",
    "                        ticks=[0, 1],\n",
    "                        )\n",
    "    cbar.ax.set_yticklabels([\"end\", \"start\"])\n",
    "    cbar.ax.tick_params(axis=\"y\")\n",
    "    plt.subplots_adjust(wspace=0.05)\n",
    "    for p in plot_paths:\n",
    "        # print(f\"\\t\\t\\t{p.parent.name}\")\n",
    "        output_path = p / f\"{filename}_cap-ewe.{p.parent.name}\"\n",
    "        plt.savefig(output_path, bbox_inches=\"tight\")\n",
    "    # plt.close()\n",
    "    plt.show()\n",
    "\n",
    "    return None\n",
    "\n",
    "\n",
    "def plot_capacity_voltage_legend(filename, d, d_plot, plot_paths):\n",
    "    half_cycles = list(d.keys())\n",
    "    n_cycles = int(np.ceil(len(half_cycles) / 2))\n",
    "    plt.style.use(bg_mpl_style)\n",
    "    colors = d_plot[\"colors\"]\n",
    "    colors = colors(np.linspace(0, 1, n_cycles))\n",
    "    fig, ax = plt.subplots(dpi=d_plot[\"dpi\"], figsize=d_plot[\"figsize\"])\n",
    "    xmin, xmax = [], []\n",
    "    counter = 0\n",
    "    for i in range(len(half_cycles)):\n",
    "        capacity = d[half_cycles[i]][\"capacity\"]\n",
    "        voltage = d[half_cycles[i]][\"voltage\"]\n",
    "        xmin.append(np.amin(capacity))\n",
    "        xmax.append(np.amax(capacity))\n",
    "        if i % 2 == 0:\n",
    "            counter += 1\n",
    "            label = str(counter)\n",
    "        else:\n",
    "            label = None\n",
    "        ax.plot(capacity, voltage, label=label, c=colors[counter-1])\n",
    "    ax.set_xlabel(d_plot[\"cap_std_label\"], fontsize=d_plot[\"fontsize_labels\"])\n",
    "    ax.set_ylabel(d_plot[\"ewe_label\"], fontsize=d_plot[\"fontsize_labels\"])\n",
    "    ax.tick_params(axis=\"both\", labelsize=d_plot[\"fontsize_ticks\"])\n",
    "    ax.minorticks_on()\n",
    "    xmin, xmax = np.amin(np.array(xmin)), np.amax(np.array(xmax))\n",
    "    xrange = xmax - xmin\n",
    "    ax.set_xlim(xmin - (0.01 * xrange), xmax + (0.01 * xrange))\n",
    "    if np.ceil(len(half_cycles) / 2) <= 7:\n",
    "        ncols = int(np.ceil(len(half_cycles) / 2))\n",
    "        offset = 0.15\n",
    "    else:\n",
    "        ncols = 8\n",
    "        if 1 < (len(half_cycles) / 2) / ncols <= 2:\n",
    "            offset = 0.25\n",
    "        elif 2 < (len(half_cycles) / 2) / ncols <= 3:\n",
    "            offset = 0.375\n",
    "        elif 3 < (len(half_cycles) / 2) / ncols <= 4:\n",
    "            offset = 0.45\n",
    "        elif 4 < (len(half_cycles) / 2) / ncols <= 5:\n",
    "            offset = 0.55\n",
    "        else:\n",
    "            print(f\"\\t\\t\\tToo many cycles to get right offset for legend.\\n\"\n",
    "                  f\"\\t\\t\\tSetting legend offset to 0.\\n\\t\\t\\tPlease \"\n",
    "                  f\"consider using a colorbar instead of a legend.\\n\")\n",
    "            offset = 0\n",
    "    handles, labels = ax.get_legend_handles_labels()\n",
    "    handles_sorted, labels_sorted = [], []\n",
    "    for i in range(ncols):\n",
    "        for j in range(len(labels)):\n",
    "            if (int(labels[j]) + ncols - 1) % ncols == i:\n",
    "                handles_sorted.append(handles[j])\n",
    "                labels_sorted.append(labels[j])\n",
    "    ax.legend(handles=handles_sorted,\n",
    "              labels=labels_sorted,\n",
    "              loc=\"upper center\",\n",
    "              bbox_to_anchor=(0.5, 1 + offset),\n",
    "              ncols=ncols,\n",
    "              framealpha=0,\n",
    "              )\n",
    "    for p in plot_paths:\n",
    "        # print(f\"\\t\\t\\t{p.parent.name}\")\n",
    "        output_path = p / f\"{filename}_cap-ewe.{p.parent.name}\"\n",
    "        plt.savefig(output_path, bbox_inches=\"tight\")\n",
    "    # plt.close()\n",
    "    plt.show()\n",
    "\n",
    "    return None\n",
    "\n",
    "\n",
    "def plot_cycle_capacity(filename, d, d_plot, plot_paths):\n",
    "    capacity_charge, capacity_discharge = d[\"charge\"], d[\"discharge\"]\n",
    "    plt.style.use(bg_mpl_style)\n",
    "    colors = d_plot[\"colors\"](np.linspace(0, 1, 10))\n",
    "    fig, ax = plt.subplots(dpi=d_plot[\"dpi\"], figsize=d_plot[\"figsize\"])\n",
    "    ax.scatter(range(1, len(capacity_charge) + 1),\n",
    "               capacity_charge,\n",
    "               color=colors[0],\n",
    "               label=\"charge\",\n",
    "               )\n",
    "    ax.scatter(range(1, len(capacity_discharge) + 1),\n",
    "               capacity_discharge,\n",
    "               color=colors[-2],\n",
    "               label=\"discharge\",\n",
    "               )\n",
    "    xmin, xmax = 1, max(len(capacity_charge), len(capacity_discharge))\n",
    "    xrange = xmax - xmin\n",
    "    ax.set_xlim(xmin - 0.01 * xrange, xmax + 0.01 * xrange)\n",
    "    ax.set_xlabel(d_plot[\"cycle_std_label\"], fontsize=d_plot[\"fontsize_labels\"])\n",
    "    ax.set_ylabel(d_plot[\"cap_std_label\"], fontsize=d_plot[\"fontsize_labels\"])\n",
    "    ax.tick_params(axis=\"both\", labelsize=d_plot[\"fontsize_ticks\"])\n",
    "    ax.minorticks_on()\n",
    "    ax.legend(loc=\"upper center\",\n",
    "              bbox_to_anchor=(0.5, 1.15),\n",
    "              ncols=2,\n",
    "              framealpha=0,\n",
    "              )\n",
    "    for p in plot_paths:\n",
    "        # print(f\"\\t\\t\\t{p.parent.name}\")\n",
    "        output_path = p / f\"{filename}_cycle-cap.{p.parent.name}\"\n",
    "        plt.savefig(output_path, bbox_inches=\"tight\")\n",
    "    # plt.close()\n",
    "    plt.show()\n",
    "\n",
    "    return None\n",
    "\n",
    "\n",
    "def plot_cycle_ce(filename, d, d_plot, plot_paths):\n",
    "    ce = d[\"coulomb_eff\"]\n",
    "    plt.style.use(bg_mpl_style)\n",
    "    fig, ax = plt.subplots(dpi=d_plot[\"dpi\"], figsize=d_plot[\"figsize\"])\n",
    "    colors = d_plot[\"colors\"](np.linspace(0, 1, 10))\n",
    "    ax.scatter(range(1, len(ce) + 1), ce, color=colors[-2])\n",
    "    xmin, xmax = 1, max(len(ce), len(ce))\n",
    "    xrange = xmax - xmin\n",
    "    ymin, ymax = np.amin(ce), np.amax(ce)\n",
    "    ce_sorted = sorted(ce, reverse=True)\n",
    "    ce_max = [e for e in ce_sorted if e <= 1]\n",
    "    if len(ce_max) > 0:\n",
    "        ymax = ce_max[0]\n",
    "    else:\n",
    "        ymax = np.amax(ce)\n",
    "    if ymax > 1:\n",
    "        ymax = 1\n",
    "    yrange = ymax - ymin\n",
    "    ax.set_xlim(xmin - 0.01 * xrange, xmax + 0.01 * xrange)\n",
    "    ax.set_ylim(ymin - 0.05 * yrange, ymax + 0.05 * yrange)\n",
    "    ax.set_xlabel(d_plot[\"cycle_std_label\"], fontsize=d_plot[\"fontsize_labels\"])\n",
    "    ax.set_ylabel(d_plot[\"ce_std_label\"], fontsize=d_plot[\"fontsize_labels\"])\n",
    "    ax.tick_params(axis=\"both\", labelsize=d_plot[\"fontsize_ticks\"])\n",
    "    ax.minorticks_on()\n",
    "    for p in plot_paths:\n",
    "        # print(f\"\\t\\t\\t{p.parent.name}\")\n",
    "        output_path = p / f\"{filename}_cycle-ce.{p.parent.name}\"\n",
    "        plt.savefig(output_path, bbox_inches=\"tight\")\n",
    "    # plt.close()\n",
    "    plt.show()\n",
    "\n",
    "    return None"
   ]
  },
  {
   "cell_type": "markdown",
   "id": "e342d830-12f9-4192-8f62-5f4a2f2ca246",
   "metadata": {},
   "source": [
    "## Input directory"
   ]
  },
  {
   "cell_type": "code",
   "execution_count": null,
   "id": "abe5ef0f-ea5b-4bca-8baa-d30d75fe912b",
   "metadata": {
    "tags": []
   },
   "outputs": [],
   "source": [
    "data_path = Path.cwd() / \"data\"\n",
    "if not data_path.exists():\n",
    "    data_path.mkdir()\n",
    "    sys.exit(f\"{80*'-'}\\nA folder called 'data' has been created.\\n\"\n",
    "             f\"Please place your .txt files containing GC data there and \"\n",
    "             f\"rerun the program.\\n{80*'-'}\"\n",
    "             )"
   ]
  },
  {
   "cell_type": "markdown",
   "id": "837903c3-1752-471d-996f-231218ccca77",
   "metadata": {},
   "source": [
    "## Listing data files"
   ]
  },
  {
   "cell_type": "code",
   "execution_count": null,
   "id": "a09ecdc8-0b4a-4ab9-acd7-e58eecb870a5",
   "metadata": {
    "tags": []
   },
   "outputs": [],
   "source": [
    "data_files = list(data_path.glob(\"*.txt\"))\n",
    "if len(data_files) == 0:\n",
    "    sys.exit(f\"{80*'-'}\\nNo .txt files were found in the 'data' folder.\\n\"\n",
    "             f\"Please place your .txt files containing GC data there and \"\n",
    "             f\"rerun the program.\\n{80*'-'}\"\n",
    "             )"
   ]
  },
  {
   "cell_type": "markdown",
   "id": "3b3fbf46-f4b8-4b11-8679-a726c913bebc",
   "metadata": {},
   "source": [
    "## Output directories"
   ]
  },
  {
   "cell_type": "code",
   "execution_count": null,
   "id": "a037397c-ff80-41bc-97ec-29c893abc47f",
   "metadata": {
    "tags": []
   },
   "outputs": [],
   "source": [
    "txt_path = Path.cwd() / \"txt\"\n",
    "data_ctd_path = Path.cwd() / \"data_comma-to-dot\"\n",
    "data_nh_path = Path.cwd() / \"data_no-header\"\n",
    "png_path, pdf_path = Path.cwd() / \"png\", Path.cwd() / \"pdf\"\n",
    "svg_path = Path.cwd() / \"svg\"\n",
    "output_paths = [txt_path,\n",
    "                data_ctd_path,\n",
    "                data_nh_path,\n",
    "                png_path,\n",
    "                pdf_path,\n",
    "                svg_path,\n",
    "                ]\n",
    "for p in output_paths:\n",
    "    if not p.exists():\n",
    "        p.mkdir()\n",
    "output_paths = [txt_path, png_path, pdf_path, svg_path,]"
   ]
  },
  {
   "cell_type": "markdown",
   "id": "b05502ab-455f-4d17-aa75-ada05a0291db",
   "metadata": {},
   "source": [
    "## Extracting, writing, and plotting"
   ]
  },
  {
   "cell_type": "markdown",
   "id": "56144bec-553d-4d6c-a0c2-2616c089227e",
   "metadata": {},
   "source": [
    "### Choose data file"
   ]
  },
  {
   "cell_type": "code",
   "execution_count": null,
   "id": "ef2dfc94-d351-40e7-8a8c-c3458a7bca7f",
   "metadata": {
    "tags": []
   },
   "outputs": [],
   "source": [
    "print(f\"Available datafiles...\\n{80*'='}\")\n",
    "for i,f in enumerate(data_files):\n",
    "    print(f\"{i}\\t{f.name}\")\n",
    "print(f\"{80*'='}\\nq\\tquit\")\n",
    "file_not_found = True\n",
    "while file_not_found:\n",
    "    f_index = input(f\"\\nPlease provide the index of the data file that \"\n",
    "                    f\"the user wish to process or 'q'\\nif the user \"\n",
    "                    f\"wish to quit the program: \")\n",
    "    if f_index.lower() == \"q\":\n",
    "        cont_program = False\n",
    "        sys.exit(f\"{80*'-'}\\nThe program has been quit upon user \"\n",
    "                 f\"request.\")\n",
    "    elif f_index in [str(e) for e in range(len(data_files))]:\n",
    "        f = data_files[int(f_index)]\n",
    "        file_not_found = False\n",
    "    else:\n",
    "        print(f\"{80*'*'}\\nIndex not found. Please try again.\"\n",
    "              f\"\\n{80*'*'}\")"
   ]
  },
  {
   "cell_type": "markdown",
   "id": "59ae79ae-ccb4-4b2a-8abe-c4e35422c32f",
   "metadata": {},
   "source": [
    "## Encoding"
   ]
  },
  {
   "cell_type": "code",
   "execution_count": null,
   "id": "3ebcc3e4-d253-41ab-9236-e88178406b69",
   "metadata": {},
   "outputs": [],
   "source": [
    "with f.open(mode=\"rb\") as input_file:\n",
    "    byte = input_file.read()\n",
    "m = magic.Magic(mime_encoding=True)\n",
    "encoding = m.from_buffer(byte)"
   ]
  },
  {
   "cell_type": "markdown",
   "id": "f0a98d46-a53a-46e4-9637-01d6226b2a37",
   "metadata": {},
   "source": [
    "### Choose potentiostat"
   ]
  },
  {
   "cell_type": "code",
   "execution_count": null,
   "id": "276e99c2-56ad-4399-96c3-a9f1ee4ad8b5",
   "metadata": {
    "tags": []
   },
   "outputs": [],
   "source": [
    "print(f\"Working w. file: {f.name}.\")\n",
    "for p in output_paths:\n",
    "    if not (p / f.stem).exists():\n",
    "        (p / f.stem).mkdir()\n",
    "txt_path_sample, png_path_sample = txt_path / f.stem, png_path / f.stem\n",
    "pdf_path_sample, svg_path_sample = pdf_path / f.stem, svg_path / f.stem\n",
    "potentiostat_keys = list(D_POTENTIOSTATS.keys())\n",
    "potentiostat_not_found = True\n",
    "while potentiostat_not_found:\n",
    "    print(f\"\\nAvailable potentiostats:\")\n",
    "    for k,v in D_POTENTIOSTATS.items():\n",
    "        print(f\"{k}\\t{v}\")\n",
    "    gc_type = input(f\"\\nPlease provide the index of the potentiostat \"\n",
    "                    f\"used to collect the GC\\ndata: \")\n",
    "    if gc_type not in potentiostat_keys:\n",
    "        print(f\"{80*'*'}\\nIndex not found. Please try again.\\n\"\n",
    "              f\"{80*'*'}\")\n",
    "    else:\n",
    "        potentiostat_not_found = False"
   ]
  },
  {
   "cell_type": "markdown",
   "id": "5a740bef-cb34-4751-be90-025a5cc0aa2c",
   "metadata": {},
   "source": [
    "### Extracting data"
   ]
  },
  {
   "cell_type": "code",
   "execution_count": null,
   "id": "b2ea1493-2ffe-4aeb-a7b9-cc0409ebd203",
   "metadata": {
    "tags": []
   },
   "outputs": [],
   "source": [
    "if gc_type == \"0\":\n",
    "    print(f\"Converting commas to dots...\")\n",
    "    f = comma_to_dot(f, data_ctd_path, encoding)\n",
    "    header_check = biologic_header_check(f)\n",
    "    if header_check:\n",
    "        f, mass = biologic_remove_header_get_mass(f, data_nh_path)\n",
    "        print(f\"\\nThe following characteristic mass was read from \"\n",
    "              f\"the header of the\\nfile: {mass} mg\")\n",
    "        mass = mass * 10**-3\n",
    "    d_data = biologic_extract(f, D_HEADER_BIOLOGIC)\n",
    "    if isinstance(d_data, type(None)):\n",
    "        sys.exit(f\"\\n{80*'-'}\\nPlease re-run the code for a new \"\n",
    "                 f\"input file.\\n{80*'-'}\")\n",
    "    d_data[\"capacity\"] = biologic_zero_capacity_if_resting(d_data)\n",
    "    print(\"Done extracting data.\")\n",
    "    if not header_check:\n",
    "        mass_not_found = True\n",
    "        while mass_not_found:\n",
    "            try:\n",
    "                mass = float(input(f\"\\nPlease provide the mass of \"\n",
    "                                   f\"the active electrode material \"\n",
    "                                   f\"(in mg): \"\n",
    "                                   )) * 10**-3\n",
    "                mass_not_found = False\n",
    "            except ValueError:\n",
    "                print(f\"{80*'*'}\\nValueError. Please try again.\\n\"\n",
    "                      f\"{80*'*'}\")\n",
    "elif gc_type == \"1\":\n",
    "    print(f\"\\nExtracting data...\")\n",
    "    d_data = mti_extract(f, D_INDICES)\n",
    "    print(\"Done extracting data.\")\n",
    "    mass_not_found = True\n",
    "    while mass_not_found:\n",
    "        try:\n",
    "            mass = float(input(f\"\\nPlease provide the mass of the \"\n",
    "                               f\"active electrode material (in mg): \"\n",
    "                               )) * 10**-3\n",
    "            mass_not_found = False\n",
    "        except ValueError:\n",
    "            print(f\"{80*'*'}\\nValueError. Please try again.\\n\"\n",
    "                  f\"{80*'*'}\")"
   ]
  },
  {
   "cell_type": "markdown",
   "id": "819b4051-90f3-4463-9bbe-05850bbddba6",
   "metadata": {},
   "source": [
    "### Working ion"
   ]
  },
  {
   "cell_type": "code",
   "execution_count": null,
   "id": "c2a394a3-1fe2-4a45-a37d-2493f3fb386d",
   "metadata": {
    "tags": []
   },
   "outputs": [],
   "source": [
    "wi_keys = list(D_WORKING_ION.keys())\n",
    "working_ion_not_found = True\n",
    "while working_ion_not_found:\n",
    "    print(f\"Working ions...\")\n",
    "    for i,k in enumerate(wi_keys):\n",
    "        print(f\"{i}\\t{k}\")\n",
    "    try:\n",
    "        working_ion = wi_keys[int(input(f\"Please provide the index \"\n",
    "                                        f\"of the working ion: \"))]\n",
    "        working_ion_not_found = False\n",
    "    except (IndexError, ValueError) as e:\n",
    "        print(f\"{80*'*'}\\n{type(e).__name__}. Please try \"\n",
    "              f\"again.\\n{80*'*'}\")\n",
    "working_ion_valence = D_WORKING_ION[working_ion]"
   ]
  },
  {
   "cell_type": "markdown",
   "id": "37e74225-c8a6-45e8-8d42-4e667af88cd9",
   "metadata": {},
   "source": [
    "## Formula"
   ]
  },
  {
   "cell_type": "code",
   "execution_count": null,
   "id": "56b12404-3ccc-43d9-9e56-940eff1ee734",
   "metadata": {
    "tags": []
   },
   "outputs": [],
   "source": [
    "formula_not_found = True\n",
    "while formula_not_found:\n",
    "    try:\n",
    "        formula = input(f\"Please provide the empirical formula, \"\n",
    "                        f\"e.g. LiFePO4, of the active electrode \"\n",
    "                        f\"material: \")\n",
    "        formula_not_found = False\n",
    "    except molmass.molmass.FormulaError:\n",
    "        print(f\"\\n\\t{72*'*'}\\n\\tFormulaError. Please try again.\\n\\t\"\n",
    "              f\"{72*'*'}\")\n",
    "D_PLOT[\"x_label\"] = make_x_label(formula, working_ion)"
   ]
  },
  {
   "cell_type": "markdown",
   "id": "787a1684-c04c-46f4-b682-242f6011a137",
   "metadata": {},
   "source": [
    "### Initial working ion content"
   ]
  },
  {
   "cell_type": "code",
   "execution_count": null,
   "id": "dac75c3b-a3d7-4c34-884b-fa1655d2fb81",
   "metadata": {},
   "outputs": [],
   "source": [
    "x_start_not_found = True\n",
    "while x_start_not_found:\n",
    "    try:\n",
    "        x_start = float(input(f\"Please provide the initial value \"\n",
    "                              f\"for x, i.e. initial working ion \"\n",
    "                              f\"content\\nof the electrode, e.g. 1 \"\n",
    "                              f\"for LiFePO4: \"))\n",
    "        x_start_not_found = False\n",
    "    except ValueError:\n",
    "        print(f\"{80*'*'}\\nValueError. Please try again.\\n\"\n",
    "              f\"{80*'*'}\")"
   ]
  },
  {
   "cell_type": "markdown",
   "id": "a32c2136-aa40-4b87-92b6-05f9b5d14914",
   "metadata": {},
   "source": [
    "### Working ion content for molar mass when calculating gravimetric capacities"
   ]
  },
  {
   "cell_type": "code",
   "execution_count": null,
   "id": "984ce7b2-52ed-4996-bf51-f0306b3fe619",
   "metadata": {},
   "outputs": [],
   "source": [
    "x_molmass_not_found = True\n",
    "while x_molmass_not_found:\n",
    "    try:\n",
    "        x_molmass = float(input(f\"Please provide the value for x, \"\n",
    "                                f\"i.e. working ion content of the \"\n",
    "                                f\"electrode,\\nto use for the molarmass \"\n",
    "                                f\"when calculating gravimetric \"\n",
    "                                f\"capacities: \"))\n",
    "        x_molmass_not_found = False\n",
    "    except ValueError:\n",
    "        print(f\"\\n\\t{72*'*'}\\n\\tValueError. Please try again.\\n\\t\"\n",
    "              f\"{72*'*'}\")"
   ]
  },
  {
   "cell_type": "markdown",
   "id": "1375034e-4ee2-4dce-b373-4440f79dd0f3",
   "metadata": {},
   "source": [
    "### Molar mass"
   ]
  },
  {
   "cell_type": "code",
   "execution_count": null,
   "id": "4b9f1b83-2396-4dca-ad5a-75d2eef13478",
   "metadata": {},
   "outputs": [],
   "source": [
    "molar_mass, molmass_formula = molar_mass_calc(formula,\n",
    "                                              working_ion,\n",
    "                                              x_start,\n",
    "                                              x_molmass=x_start,\n",
    "                                              )\n",
    "print(f\"\\nCalculated molar mass for {molmass_formula}: {molar_mass:.6f} \"\n",
    "      f\"g/mol\")\n",
    "if x_start != x_molmass:\n",
    "    molar_mass_modified, molmass_formula_modified = molar_mass_calc(formula,\n",
    "                                                                    working_ion,\n",
    "                                                                    x_start,\n",
    "                                                                    x_molmass,\n",
    "                                                                    )\n",
    "    molmass_ratio = molar_mass / molar_mass_modified\n",
    "    print(f\"\\nCalculated molar mass for {molmass_formula_modified}: {molar_mass_modified:.6f} \"\n",
    "          f\"g/mol\")\n",
    "    print(f\"Molar mass ratio: {molmass_ratio:.6f}\")"
   ]
  },
  {
   "cell_type": "markdown",
   "id": "1df29dd0-89e9-4c16-9d99-454219bce04e",
   "metadata": {},
   "source": [
    "#### Counter electrode"
   ]
  },
  {
   "cell_type": "code",
   "execution_count": null,
   "id": "54a03fa9-ec4b-4b40-8059-ad6f0de21d7d",
   "metadata": {},
   "outputs": [],
   "source": [
    "print(f\"Available counter electrodes...\")\n",
    "ce_keys = list(D_EWE_LABEL.keys())\n",
    "ce_not_found = True\n",
    "while ce_not_found:\n",
    "    for i,k in enumerate(ce_keys):\n",
    "        print(f\"{i}\\t{k}\")\n",
    "    try:\n",
    "        ewe_label = int(input(f\"Please provide the index of the \"\n",
    "                              f\"counter electrode: \"))\n",
    "        try:\n",
    "            D_PLOT[\"ewe_label\"] = D_EWE_LABEL[ce_keys[ewe_label]]\n",
    "            ce_not_found = False\n",
    "        except IndexError as e:\n",
    "            print(f\"{80*'*'}\\nIndexError. Please try again.\\n\"\n",
    "                  f\"{80*'*'}\")\n",
    "    except ValueError:\n",
    "        print(f\"{80*'*'}\\nValueError. Please try again.\\n\"\n",
    "              f\"{80*'*'}\")"
   ]
  },
  {
   "cell_type": "markdown",
   "id": "a57f1bae-61c1-4f41-85e5-eb0217cda678",
   "metadata": {},
   "source": [
    "### Colorbar or legend"
   ]
  },
  {
   "cell_type": "code",
   "execution_count": null,
   "id": "dafdddf6-186e-4ad1-9702-8bee161a4d70",
   "metadata": {},
   "outputs": [],
   "source": [
    "print(f\"Colorbar or legend...\")\n",
    "plot_mode_not_found = True\n",
    "while plot_mode_not_found:\n",
    "    for k,v in D_PLOT_MODES.items():\n",
    "        print(f\"{k}\\t{v}\")\n",
    "    cbar_vs_legend = input(f\"Please indicate whether a colorbar or a \"\n",
    "                           f\"legend is preferred: \")\n",
    "    if cbar_vs_legend in list(D_PLOT_MODES.keys()):\n",
    "        D_PLOT[\"cbar_legend\"] = D_PLOT_MODES[cbar_vs_legend]\n",
    "        plot_mode_not_found = False\n",
    "    else:\n",
    "        print(f\"{80*'*'}\\nIndexError. Please try again.\\n\"\n",
    "              f\"{80*'*'}\")"
   ]
  },
  {
   "cell_type": "markdown",
   "id": "0c5b7789-9321-4d26-a128-461d76ccf856",
   "metadata": {},
   "source": [
    "### Colormap type"
   ]
  },
  {
   "cell_type": "code",
   "execution_count": null,
   "id": "c4f17fc2-2abd-428e-9f0a-bc1ec3e6963b",
   "metadata": {},
   "outputs": [],
   "source": [
    "color_type_not_found = True\n",
    "print(f\"Color types...\")\n",
    "while color_type_not_found:\n",
    "    for k,v in D_CMAPS.items():\n",
    "        print(f\"{k}\\t{v}\")\n",
    "\n",
    "    cmap_type = input(f\"Please provide the index to indicate of\"\n",
    "                      f\"desired colormap: \")\n",
    "    if cmap_type in D_CMAPS.keys():\n",
    "        color_type_not_found = False\n",
    "    else:\n",
    "        print(f\"{80*'*'}\\nIndexError. Please try again.\\n\"\n",
    "              f\"{80*'*'}\")"
   ]
  },
  {
   "cell_type": "markdown",
   "id": "2dd27c08-657e-433e-ba4c-d240b398bd6d",
   "metadata": {},
   "source": [
    "### Colormap"
   ]
  },
  {
   "cell_type": "code",
   "execution_count": null,
   "id": "27fb8664-7582-4d10-a7cb-b0af5d232dc9",
   "metadata": {},
   "outputs": [],
   "source": [
    "cmap_not_found = True\n",
    "while cmap_not_found:\n",
    "    if cmap_type == \"0\":\n",
    "        print(f\"Available color schemes...\")\n",
    "        rgb_keys = list(D_RGB.keys())\n",
    "        for i in range(len(rgb_keys)):\n",
    "            print(f\"{i}\\t{rgb_keys[i]}\")\n",
    "        rgb = input(f\"Please provide the index of the desired color \"\n",
    "                    f\"scheme: \")\n",
    "        try:\n",
    "            rgb = D_RGB[rgb_keys[int(rgb)]]\n",
    "            D_PLOT[\"cmap_type\"] = \"rgb\"\n",
    "            D_PLOT[\"colors\"] = LinearSegmentedColormap.from_list(\"my_gradient\", (\n",
    "                               (0.000, (0, 0, 0)),\n",
    "                               (1.000, (rgb[0] / 255, rgb[1] / 255, rgb[2] / 255)),\n",
    "                               ))\n",
    "            cmap_not_found = False\n",
    "        except (IndexError, ValueError) as e:\n",
    "            print(f\"{80*'*'}\\n{type(e).__name__}. Please try again.\\n{80*'*'}\")\n",
    "    elif cmap_type == \"1\":\n",
    "        print(f\"Matplotlib colormaps...\")\n",
    "        for i,e in enumerate(CMAPS):\n",
    "            print(f\"{i}\\t{e}\")\n",
    "        try:\n",
    "            D_PLOT[\"cmap\"] = CMAPS[int(input(f\"Please provide the index of \"\n",
    "                                             f\"the desired colormap: \"))]\n",
    "            D_PLOT[\"colors\"] = get_cmap(D_PLOT[\"cmap\"])\n",
    "            D_PLOT[\"cmap_type\"] = \"mpl\"\n",
    "            cmap_not_found = False\n",
    "        except (IndexError, ValueError) as e:\n",
    "            print(f\"{80*'*'}\\n{type(e).__name__}. Please try again.\\n{80*'*'}\")        "
   ]
  },
  {
   "cell_type": "markdown",
   "id": "1d13c31b-3307-4da6-81d0-432e7266ae51",
   "metadata": {},
   "source": [
    "### Data wrangling"
   ]
  },
  {
   "cell_type": "code",
   "execution_count": null,
   "id": "a3b54053-861a-40a8-b2ce-a2d725124bcb",
   "metadata": {},
   "outputs": [],
   "source": [
    "if gc_type == \"1\":\n",
    "    print(\"Calculating x-values, i.e. state of charge...\")\n",
    "    d_data[\"x\"] = x_calc(d_data,\n",
    "                         mass,\n",
    "                         molar_mass,\n",
    "                         x_start,\n",
    "                         working_ion_valence,\n",
    "                         )\n",
    "    print(f\"Done calculating x-values.\")\n",
    "d_data[\"half_cycles_start\"] = half_cycles_start(d_data)\n",
    "d_data[\"half_cycles_end\"] = half_cycles_end(d_data)\n",
    "if x_start == x_molmass:\n",
    "    d_data[\"capacity\"] = d_data[\"capacity\"] / mass\n",
    "else:\n",
    "    d_data[\"capacity\"] = d_data[\"capacity\"] / (mass / molmass_ratio)\n",
    "d_half_cycles = extract_half_cycles(d_data)\n",
    "d_cycles = merge_half_cycles_to_cycles(d_half_cycles)\n",
    "d_caps = capacities_extract(d_half_cycles)"
   ]
  },
  {
   "cell_type": "markdown",
   "id": "a4bff100-ec66-40bf-9961-4eb27caa406b",
   "metadata": {},
   "source": [
    "### Writing files"
   ]
  },
  {
   "cell_type": "code",
   "execution_count": null,
   "id": "f2455bed-9a95-49c0-be37-84e008f29d1d",
   "metadata": {},
   "outputs": [],
   "source": [
    "print(f\"Writing extracted and \"\n",
    "      f\"calculated data to\\n\\t{txt_path_sample.name}\\nfolder.\"\n",
    "      )\n",
    "write(d_data, txt_path / f.stem / f.name)\n",
    "cycles_write(d_cycles, txt_path_sample / f.name)\n",
    "formula_molarmass_write(molmass_formula, molar_mass, txt_path_sample)\n",
    "print(f\"Done writing extracted and calculated data to \"\n",
    "      f\"\\n\\t{txt_path_sample.name}/{txt_path.name}\\nfolder.\"\n",
    "     )"
   ]
  },
  {
   "cell_type": "markdown",
   "id": "91c22a68-92eb-4072-b53c-56b9daf46412",
   "metadata": {},
   "source": [
    "### Plot paths"
   ]
  },
  {
   "cell_type": "code",
   "execution_count": null,
   "id": "40c81aea-6600-469e-b97e-461b369ca47f",
   "metadata": {},
   "outputs": [],
   "source": [
    "plot_paths_sample = [png_path_sample, pdf_path_sample, svg_path_sample]\n",
    "plot_folders = [p.parent.name for p in plot_paths_sample]"
   ]
  },
  {
   "cell_type": "markdown",
   "id": "8de60fd9-155e-4abe-914f-4cceecf96ba5",
   "metadata": {},
   "source": [
    "### Plotting: time vs. voltage"
   ]
  },
  {
   "cell_type": "code",
   "execution_count": null,
   "id": "7ccb43ac-b5aa-4e1e-9ba5-694d935a0dfe",
   "metadata": {},
   "outputs": [],
   "source": [
    "plot_time_voltage(f.stem, d_data, D_PLOT, plot_paths_sample,)"
   ]
  },
  {
   "cell_type": "markdown",
   "id": "4849d3df-7e3f-4a35-8a94-815d4be73652",
   "metadata": {},
   "source": [
    "### Plotting: x vs. voltage"
   ]
  },
  {
   "cell_type": "code",
   "execution_count": null,
   "id": "a5d1a744-5f43-4a1b-a3b2-3a829a901411",
   "metadata": {},
   "outputs": [],
   "source": [
    "if D_PLOT[\"cbar_legend\"] == \"Colorbar\":\n",
    "    plot_x_voltage_cycles_cbar(f.stem, d_half_cycles, D_PLOT, plot_paths_sample,)\n",
    "elif D_PLOT[\"cbar_legend\"] == \"Legend\":\n",
    "    plot_x_voltage_cycles_legend(f.stem, d_half_cycles, D_PLOT, plot_paths_sample,)"
   ]
  },
  {
   "cell_type": "markdown",
   "id": "00e488c9-c102-4317-a252-a8760d853caa",
   "metadata": {},
   "source": [
    "### Plotting: capacity vs. voltage"
   ]
  },
  {
   "cell_type": "code",
   "execution_count": null,
   "id": "2fa938d4-4d43-4233-a461-770b0f87cf8c",
   "metadata": {},
   "outputs": [],
   "source": [
    "if D_PLOT[\"cbar_legend\"] == \"Colorbar\":\n",
    "    plot_capacity_voltage_cbar(f.stem, d_half_cycles, D_PLOT, plot_paths_sample,)\n",
    "elif D_PLOT[\"cbar_legend\"] == \"Legend\":\n",
    "    plot_capacity_voltage_legend(f.stem, d_half_cycles, D_PLOT, plot_paths_sample,)"
   ]
  },
  {
   "cell_type": "markdown",
   "id": "0b0cbf89-f859-4fe8-ae75-b5decb9da3d3",
   "metadata": {},
   "source": [
    "### Plotting: cycle number vs. capacity"
   ]
  },
  {
   "cell_type": "code",
   "execution_count": null,
   "id": "2eb9ffb1-0b0a-4ee5-ace2-06079deb1e3e",
   "metadata": {},
   "outputs": [],
   "source": [
    "plot_cycle_capacity(f.stem, d_caps, D_PLOT, plot_paths_sample,)"
   ]
  },
  {
   "cell_type": "markdown",
   "id": "139026e0-fe24-42d9-8d80-d1f287671aea",
   "metadata": {},
   "source": [
    "### Plotting: cycle number vs. coulombic efficiency"
   ]
  },
  {
   "cell_type": "code",
   "execution_count": null,
   "id": "6d88b39c-73da-4f2d-91fc-3859a8b9368b",
   "metadata": {},
   "outputs": [],
   "source": [
    "plot_cycle_ce(f.stem, d_caps, D_PLOT, plot_paths_sample)"
   ]
  },
  {
   "cell_type": "markdown",
   "id": "d4deb0a6-62ff-499c-b8b8-351d6dde8727",
   "metadata": {},
   "source": [
    "# End of file"
   ]
  }
 ],
 "metadata": {
  "kernelspec": {
   "display_name": "Python 3 (ipykernel)",
   "language": "python",
   "name": "python3"
  },
  "language_info": {
   "codemirror_mode": {
    "name": "ipython",
    "version": 3
   },
   "file_extension": ".py",
   "mimetype": "text/x-python",
   "name": "python",
   "nbconvert_exporter": "python",
   "pygments_lexer": "ipython3",
   "version": "3.11.5"
  }
 },
 "nbformat": 4,
 "nbformat_minor": 5
}
