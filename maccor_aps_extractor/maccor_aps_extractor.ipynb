{
 "cells": [
  {
   "attachments": {},
   "cell_type": "markdown",
   "metadata": {},
   "source": [
    "Imports."
   ]
  },
  {
   "cell_type": "code",
   "execution_count": null,
   "metadata": {},
   "outputs": [],
   "source": [
    "import sys\n",
    "import warnings\n",
    "from pathlib import Path\n",
    "import numpy as np\n",
    "import pandas as pd"
   ]
  },
  {
   "cell_type": "code",
   "execution_count": null,
   "metadata": {},
   "outputs": [],
   "source": [
    "D_ECHEM_LABELS = dict(time=\"TestTime\", \n",
    "                      voltage=\"Voltage [V]\",\n",
    "                      current=\"Current [A]\",\n",
    "                      step=\"Step\"\n",
    "                      )"
   ]
  },
  {
   "attachments": {},
   "cell_type": "markdown",
   "metadata": {},
   "source": [
    "Ignore UserWarnings in case `sys.exit()` is encountered."
   ]
  },
  {
   "cell_type": "code",
   "execution_count": null,
   "metadata": {},
   "outputs": [],
   "source": [
    "warnings.filterwarnings(\"ignore\", category=UserWarning)"
   ]
  },
  {
   "attachments": {},
   "cell_type": "markdown",
   "metadata": {},
   "source": [
    "Checking whether a folder called `data` exists."
   ]
  },
  {
   "cell_type": "code",
   "execution_count": null,
   "metadata": {},
   "outputs": [],
   "source": [
    "data_path = Path.cwd() / \"data\"\n",
    "if not data_path.exists():\n",
    "    data_path.mkdir()\n",
    "    s = f\"\\n{80*'-'}\\nA folder called '{data_path.name}' has been created.\"\n",
    "    s += f\"\\nPlease put your data files there and rerun the code.\\n{80*'-'}\"\n",
    "    sys.exit(s)"
   ]
  },
  {
   "attachments": {},
   "cell_type": "markdown",
   "metadata": {},
   "source": [
    "Checking that data files are present in the `data` folder."
   ]
  },
  {
   "cell_type": "code",
   "execution_count": null,
   "metadata": {},
   "outputs": [],
   "source": [
    "data_files = list(data_path.glob(\"*.*\"))\n",
    "if len(data_files) == 0:\n",
    "    s = f\"\\n{80*'-'}\\nNo files were found in the '{data_path.name}' folder.\\n\"\n",
    "    s += f\"Please put your data files there and rerun the code.\\n{80*'-'}\"\n",
    "    sys.exit(s)"
   ]
  },
  {
   "attachments": {},
   "cell_type": "markdown",
   "metadata": {},
   "source": [
    "Function to get header and index for header line in the data file."
   ]
  },
  {
   "cell_type": "code",
   "execution_count": null,
   "metadata": {},
   "outputs": [],
   "source": [
    "def get_header_idx(data_file):\n",
    "    with data_file.open(mode=\"r\") as f:\n",
    "        lines = f.readlines()\n",
    "    for i, line in enumerate(lines):\n",
    "        if \"Rec\" in line:\n",
    "            break\n",
    "\n",
    "    return i, lines[i].strip().split(\"\\t\")"
   ]
  },
  {
   "attachments": {},
   "cell_type": "markdown",
   "metadata": {},
   "source": [
    "Function to write the extracted data to a `.txt` file."
   ]
  },
  {
   "cell_type": "code",
   "execution_count": null,
   "metadata": {},
   "outputs": [],
   "source": [
    "def write(df, d, filename, output_path):\n",
    "    time = df[d[\"time\"]].to_numpy()\n",
    "    time = (time - time[0]) / 60\n",
    "    step = df[d[\"step\"]].to_numpy()\n",
    "    voltage, current = df[d[\"voltage\"]].to_numpy(), df[d[\"current\"]].to_numpy()\n",
    "    sign_current = []\n",
    "    for e in step:\n",
    "        if e == 5:\n",
    "            sign_current.append(1)\n",
    "        else:\n",
    "            sign_current.append(-1)\n",
    "    current = current * np.array(sign_current)\n",
    "    import matplotlib.pyplot as plt\n",
    "    # plt.plot(time, voltage),\n",
    "    plt.plot(time, current)\n",
    "    header = \"t [h]\\tV [V]\\ti [A]\"\n",
    "    np.savetxt(output_path / filename,\n",
    "               np.column_stack((time, voltage, current)),\n",
    "               delimiter=\"\\t\",\n",
    "               header=header,\n",
    "               fmt=\"%.8f\",\n",
    "               encoding=\"utf8\",\n",
    "               )\n",
    "    \n",
    "    return None"
   ]
  },
  {
   "attachments": {},
   "cell_type": "markdown",
   "metadata": {},
   "source": [
    "Making sure that the output path exists."
   ]
  },
  {
   "cell_type": "code",
   "execution_count": null,
   "metadata": {},
   "outputs": [],
   "source": [
    "txt_path = Path.cwd() / \"txt\"\n",
    "if not txt_path.exists():\n",
    "    txt_path.mkdir()"
   ]
  },
  {
   "attachments": {},
   "cell_type": "markdown",
   "metadata": {},
   "source": [
    "Extracting data and writing to `.txt` file."
   ]
  },
  {
   "cell_type": "code",
   "execution_count": null,
   "metadata": {},
   "outputs": [],
   "source": [
    "print(f\"{80*'-'}\\nWorking with files...\")\n",
    "for f in data_files:\n",
    "      print(f\"\\t{f.name}\")\n",
    "      header_idx, header = get_header_idx(f)\n",
    "      df = pd.read_csv(f,\n",
    "                       skiprows=header_idx+1,\n",
    "                       delimiter=\"\\t\",\n",
    "                       names=header,\n",
    "                       usecols=[i for i in range(len(header))],\n",
    "                       )\n",
    "      write(df, D_ECHEM_LABELS, f.name, txt_path)\n",
    "print(f\"Done working with files. Please see the '{txt_path.name}' folder.\"\n",
    "      f\"\\n{80*'-'}\")"
   ]
  }
 ],
 "metadata": {
  "kernelspec": {
   "display_name": "py311",
   "language": "python",
   "name": "python3"
  },
  "language_info": {
   "codemirror_mode": {
    "name": "ipython",
    "version": 3
   },
   "file_extension": ".py",
   "mimetype": "text/x-python",
   "name": "python",
   "nbconvert_exporter": "python",
   "pygments_lexer": "ipython3",
   "version": "3.11.3"
  },
  "orig_nbformat": 4
 },
 "nbformat": 4,
 "nbformat_minor": 2
}
