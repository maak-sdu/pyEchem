{
 "cells": [
  {
   "attachments": {},
   "cell_type": "markdown",
   "metadata": {},
   "source": [
    "Imports."
   ]
  },
  {
   "cell_type": "code",
   "execution_count": null,
   "metadata": {},
   "outputs": [],
   "source": [
    "import sys\n",
    "import warnings\n",
    "from pathlib import Path\n",
    "from datetime import datetime\n",
    "import numpy as np\n",
    "import pandas as pd"
   ]
  },
  {
   "cell_type": "code",
   "execution_count": null,
   "metadata": {},
   "outputs": [],
   "source": [
    "D_INDICES = dict(voltage_index = 2,\n",
    "                 current_index = 3,\n",
    "                 capacity_index = 5,\n",
    "                 date_index = -2,\n",
    "                 time_index = -1,\n",
    "                 )"
   ]
  },
  {
   "attachments": {},
   "cell_type": "markdown",
   "metadata": {},
   "source": [
    "Ignore UserWarnings in case `sys.exit()` is encountered."
   ]
  },
  {
   "cell_type": "code",
   "execution_count": null,
   "metadata": {},
   "outputs": [],
   "source": [
    "warnings.filterwarnings(\"ignore\", category=UserWarning)"
   ]
  },
  {
   "attachments": {},
   "cell_type": "markdown",
   "metadata": {},
   "source": [
    "Checking whether a folder called `data` exists."
   ]
  },
  {
   "cell_type": "code",
   "execution_count": null,
   "metadata": {},
   "outputs": [],
   "source": [
    "data_path = Path.cwd() / \"data\"\n",
    "if not data_path.exists():\n",
    "    data_path.mkdir()\n",
    "    s = f\"\\n{80*'-'}\\nA folder called '{data_path.name}' has been created.\"\n",
    "    s += f\"\\nPlease put your data files there and rerun the code.\\n{80*'-'}\"\n",
    "    sys.exit(s)"
   ]
  },
  {
   "attachments": {},
   "cell_type": "markdown",
   "metadata": {},
   "source": [
    "Checking that data files are present in the `data` folder."
   ]
  },
  {
   "cell_type": "code",
   "execution_count": null,
   "metadata": {},
   "outputs": [],
   "source": [
    "data_files = list(data_path.glob(\"*.*\"))\n",
    "if len(data_files) == 0:\n",
    "    s = f\"\\n{80*'-'}\\nNo files were found in the '{data_path.name}' folder.\\n\"\n",
    "    s += f\"Please put your data files there and rerun the code.\\n{80*'-'}\"\n",
    "    sys.exit(s)"
   ]
  },
  {
   "attachments": {},
   "cell_type": "markdown",
   "metadata": {},
   "source": [
    "Function to get header and index for header line in the data file."
   ]
  },
  {
   "cell_type": "code",
   "execution_count": null,
   "metadata": {},
   "outputs": [],
   "source": [
    "def mti_extract(file, d_indices):\n",
    "    with file.open(mode=\"r\") as f:\n",
    "        lines = f.readlines()\n",
    "    header = lines[0:3]\n",
    "    lines = lines[3::]\n",
    "    modes = [\"Rest\", \"CC_Chg\", \"CC_DChg\"]\n",
    "    start = None\n",
    "    for i, line in enumerate(lines):\n",
    "        line = line.split()\n",
    "        for e in modes:\n",
    "            if e in line:\n",
    "                start = i + 1\n",
    "                break\n",
    "        if not isinstance(start, type(None)):\n",
    "            break\n",
    "    cols = len(lines[start].split())\n",
    "    cols_cycles = len(lines[start-2].split())\n",
    "    time_cycle_start = []\n",
    "    for i in range(len(lines)):\n",
    "        line_split = lines[i].split()\n",
    "        if len(line_split) == cols_cycles:\n",
    "            line_split_data = lines[i+2].split()\n",
    "            date_split = line_split_data[d_indices[\"date_index\"]].split(\"-\")\n",
    "            time_split = line_split_data[d_indices[\"time_index\"]].split(\":\")\n",
    "            time_cycle_start.append(datetime(int(date_split[0]),\n",
    "                                             int(date_split[1]),\n",
    "                                             int(date_split[2]),\n",
    "                                             int(time_split[0]),\n",
    "                                             int(time_split[1]),\n",
    "                                             int(time_split[2])\n",
    "                                             ).timestamp()\n",
    "                                    )\n",
    "    time_cycle_start = np.array(time_cycle_start)\n",
    "    time_cycle_start = time_cycle_start - time_cycle_start[0]\n",
    "    voltage, current, capacity, date, time, date_time = [], [], [], [], [], []\n",
    "    for i in range(start, len(lines)):\n",
    "        line = lines[i].split()\n",
    "        if len(line) == cols:\n",
    "            voltage.append(float(line[d_indices[\"voltage_index\"]]))\n",
    "            current.append(float(line[d_indices[\"current_index\"]]))\n",
    "            capacity.append(float(line[d_indices[\"capacity_index\"]]))\n",
    "            date.append(line[d_indices[\"date_index\"]])\n",
    "            time.append(line[d_indices[\"time_index\"]])\n",
    "    for i in range(len(date)):\n",
    "        date_split = date[i].split(\"-\")\n",
    "        time_split = time[i].split(\":\")\n",
    "        date_time.append(datetime(int(date_split[0]),\n",
    "                                  int(date_split[1]),\n",
    "                                  int(date_split[2]),\n",
    "                                  int(time_split[0]),\n",
    "                                  int(time_split[1]),\n",
    "                                  int(time_split[2])\n",
    "                                  ).timestamp()\n",
    "                        )\n",
    "    voltage, current = np.array(voltage), np.array(current) * 10**-3\n",
    "    capacity = np.array(capacity)\n",
    "    date_time = np.array(date_time)\n",
    "    time = date_time - date_time[0]\n",
    "    df = pd.DataFrame(dict(time=time,\n",
    "                           voltage=voltage,\n",
    "                           current=current,\n",
    "                        #    capacity=capacity,\n",
    "                        #    time_cycle_start=time_cycle_start,\n",
    "                           ))\n",
    "\n",
    "    return df"
   ]
  },
  {
   "attachments": {},
   "cell_type": "markdown",
   "metadata": {},
   "source": [
    "Function to write the extracted data to a `.txt` file."
   ]
  },
  {
   "cell_type": "code",
   "execution_count": null,
   "metadata": {},
   "outputs": [],
   "source": [
    "def write(df, filename, output_path):\n",
    "    time = df[\"time\"].to_numpy() / 60**2\n",
    "    voltage, current = df[\"voltage\"].to_numpy(), df[\"current\"].to_numpy()\n",
    "    header = \"t [h]\\tV [V]\\ti [A]\"\n",
    "    np.savetxt(output_path / filename,\n",
    "               np.column_stack((time, voltage, current)),\n",
    "               delimiter=\"\\t\",\n",
    "               header=header,\n",
    "               fmt=\"%.8f\",\n",
    "               encoding=\"utf8\",\n",
    "               )\n",
    "    \n",
    "    return None"
   ]
  },
  {
   "attachments": {},
   "cell_type": "markdown",
   "metadata": {},
   "source": [
    "Making sure that the output path exists."
   ]
  },
  {
   "cell_type": "code",
   "execution_count": null,
   "metadata": {},
   "outputs": [],
   "source": [
    "txt_path = Path.cwd() / \"txt\"\n",
    "if not txt_path.exists():\n",
    "    txt_path.mkdir()"
   ]
  },
  {
   "attachments": {},
   "cell_type": "markdown",
   "metadata": {},
   "source": [
    "Extracting data and writing to `.txt` file."
   ]
  },
  {
   "cell_type": "code",
   "execution_count": null,
   "metadata": {},
   "outputs": [],
   "source": [
    "print(f\"{80*'-'}\\nWorking with files...\")\n",
    "for f in data_files:\n",
    "      print(f\"\\t{f.name}\")\n",
    "      for f in data_files:\n",
    "            df = mti_extract(f, D_INDICES)\n",
    "      write(df, f.name, txt_path)\n",
    "print(f\"Done working with files. Please see the '{txt_path.name}' folder.\"\n",
    "      f\"\\n{80*'-'}\")"
   ]
  }
 ],
 "metadata": {
  "kernelspec": {
   "display_name": "py311",
   "language": "python",
   "name": "python3"
  },
  "language_info": {
   "codemirror_mode": {
    "name": "ipython",
    "version": 3
   },
   "file_extension": ".py",
   "mimetype": "text/x-python",
   "name": "python",
   "nbconvert_exporter": "python",
   "pygments_lexer": "ipython3",
   "version": "3.11.3"
  },
  "orig_nbformat": 4
 },
 "nbformat": 4,
 "nbformat_minor": 2
}
