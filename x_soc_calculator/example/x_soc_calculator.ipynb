{
 "cells": [
  {
   "attachments": {},
   "cell_type": "markdown",
   "metadata": {},
   "source": [
    "Imports."
   ]
  },
  {
   "cell_type": "code",
   "execution_count": null,
   "metadata": {},
   "outputs": [],
   "source": [
    "from pathlib import Path\n",
    "import numpy as np\n",
    "import pandas as pd\n",
    "from scipy.constants import physical_constants\n",
    "import matplotlib.pyplot as plt\n",
    "from diffpy.utils.parsers.loaddata import loadData\n",
    "from bg_mpl_stylesheet.bg_mpl_stylesheet import bg_mpl_style"
   ]
  },
  {
   "attachments": {},
   "cell_type": "markdown",
   "metadata": {},
   "source": [
    "Dictionary containing sample and experimental information."
   ]
  },
  {
   "cell_type": "code",
   "execution_count": null,
   "metadata": {},
   "outputs": [],
   "source": [
    "D_SAMPLE = dict(mass_mg=6.755,\n",
    "                molar_mass=79.866,\n",
    "                x_start=0,\n",
    "                voltage_min=1,\n",
    "                voltage_max=3,\n",
    "                )"
   ]
  },
  {
   "attachments": {},
   "cell_type": "markdown",
   "metadata": {},
   "source": [
    "Dictionary containing labels used in the header of the echem data file."
   ]
  },
  {
   "cell_type": "code",
   "execution_count": null,
   "metadata": {},
   "outputs": [],
   "source": [
    "D_ECHEM_LABELS = dict(time=\"t [h]\", \n",
    "                      voltage=\"V [V]\", \n",
    "                      current=\"i [A]\",\n",
    "                      )"
   ]
  },
  {
   "attachments": {},
   "cell_type": "markdown",
   "metadata": {},
   "source": [
    "Function to check whether code is run as a Ipython notebook or from an Ipython\n",
    "terminal to be able to exit properly, if neccessary."
   ]
  },
  {
   "cell_type": "code",
   "execution_count": null,
   "metadata": {},
   "outputs": [],
   "source": [
    "def is_nb():\n",
    "    shell = get_ipython().__class__.__name__\n",
    "    if shell == \"ZMQInteractiveShell\":\n",
    "        nb_bool = True\n",
    "    else:\n",
    "        nb_bool = False\n",
    "\n",
    "    return nb_bool"
   ]
  },
  {
   "attachments": {},
   "cell_type": "markdown",
   "metadata": {},
   "source": [
    "Function to calculate the state of charge, $x$."
   ]
  },
  {
   "cell_type": "code",
   "execution_count": null,
   "metadata": {},
   "outputs": [],
   "source": [
    "def x_calculate(df, d):\n",
    "    time, current = df[\"time\"].to_numpy(), df[\"current\"].to_numpy()\n",
    "    molar_mass, mass = d[\"molar_mass\"], d[\"mass_mg\"] * 10**-3\n",
    "    x = np.array([d[\"x_start\"]])\n",
    "    n = mass / molar_mass\n",
    "    f = physical_constants[\"Faraday constant\"][0]\n",
    "    for i in range(1, len(time)):\n",
    "        delta_q =  - current[i] * (time[i] - time[i-1]) * 60**2\n",
    "        delta_x = delta_q / (n * f)\n",
    "        x = np.append(x, x[-1] + delta_x)\n",
    "\n",
    "    return x"
   ]
  },
  {
   "attachments": {},
   "cell_type": "markdown",
   "metadata": {},
   "source": [
    "Function to update keys in dataframe."
   ]
  },
  {
   "cell_type": "code",
   "execution_count": null,
   "metadata": {},
   "outputs": [],
   "source": [
    "def df_keys_update(df, d):\n",
    "    for k1 in list(df.keys()):\n",
    "        for k2 in D_ECHEM_LABELS:\n",
    "            if D_ECHEM_LABELS[k2] in k1:\n",
    "                df.rename(columns={k1: k2}, inplace=True)\n",
    "    \n",
    "    return df"
   ]
  },
  {
   "attachments": {},
   "cell_type": "markdown",
   "metadata": {},
   "source": [
    "Function to plot the voltage as a function of state of charge."
   ]
  },
  {
   "cell_type": "code",
   "execution_count": null,
   "metadata": {},
   "outputs": [],
   "source": [
    "def plot(df, d, filename, output_paths):\n",
    "    figsize = (12, 4)\n",
    "    dpi = 600\n",
    "    fs_labels = 20\n",
    "    fs_ticks = 14\n",
    "    xlabel = \"$x$\"\n",
    "    ylabel = \"$V\\;[\\mathrm{h}]$\"\n",
    "    plt.style.use(bg_mpl_style)\n",
    "    fig, ax = plt.subplots(figsize=figsize)\n",
    "    ax.plot(df[\"x\"], df[\"voltage\"])\n",
    "    ax.set_xlim(np.amin(df[\"x\"]), np.amax(df[\"x\"]))\n",
    "    ax.set_ylim(d[\"voltage_min\"], d[\"voltage_max\"])\n",
    "    ax.set_xlabel(xlabel, fontsize=fs_labels)\n",
    "    ax.set_ylabel(ylabel, fontsize=fs_labels)\n",
    "    ax.tick_params(axis=\"both\", labelsize=fs_ticks)\n",
    "    ax.minorticks_on()\n",
    "    for p in output_paths:\n",
    "        print(f\"\\t{p.name}\")\n",
    "        plt.savefig(p / f\"{filename}.{p.name}\", dpi=dpi, bbox_inches=\"tight\")\n",
    "    plt.close()\n",
    "\n",
    "    return None"
   ]
  },
  {
   "attachments": {},
   "cell_type": "markdown",
   "metadata": {},
   "source": [
    "Function to write dataframe to `.txt` file in a format similar to the input."
   ]
  },
  {
   "cell_type": "code",
   "execution_count": null,
   "metadata": {},
   "outputs": [],
   "source": [
    "def write(df, d, filename, output_path):\n",
    "    df_keys = df.keys()\n",
    "    for k in df_keys:\n",
    "        if k not in d.keys():\n",
    "            d[k] = k\n",
    "    delimiter=\"\\t\"\n",
    "    header = d[df_keys[0]]\n",
    "    for i in range(1, len(df_keys)):\n",
    "        header += f\"{delimiter}{d[df_keys[i]]}\"\n",
    "    np.savetxt(output_path / filename,\n",
    "               df.to_numpy(),\n",
    "               delimiter=delimiter,\n",
    "               header=header,\n",
    "               fmt=\"%.4e\",\n",
    "               encoding=\"utf8\",\n",
    "               )\n",
    "\n",
    "    return None"
   ]
  },
  {
   "attachments": {},
   "cell_type": "markdown",
   "metadata": {},
   "source": [
    "Checking whether a folder called `data` exists."
   ]
  },
  {
   "cell_type": "code",
   "execution_count": null,
   "metadata": {},
   "outputs": [],
   "source": [
    "data_path = Path.cwd() / \"data_echem\"\n",
    "if not data_path.exists():\n",
    "    data_path.mkdir()\n",
    "    s = f\"{80*'-'}\\nA folder called '{data_path.name}' has been created.\"\n",
    "    s += f\"\\nPlease put your data files there and rerun the code.\\n{80*'-'}\"\n",
    "    print(s)\n",
    "    if is_nb():\n",
    "        exit(keep_kernel=True)\n",
    "    else:\n",
    "        exit()"
   ]
  },
  {
   "attachments": {},
   "cell_type": "markdown",
   "metadata": {},
   "source": [
    "Checking that only one file i present in the `data` folder."
   ]
  },
  {
   "cell_type": "code",
   "execution_count": null,
   "metadata": {},
   "outputs": [],
   "source": [
    "data_files = list(data_path.glob(\"*.*\"))\n",
    "if len(data_files) == 0:\n",
    "    s = f\"{80*'-'}\\nNo files were found in the '{data_path.name}' folder.\\n\"\n",
    "    s += f\"Please put your data files there and rerun the code.\\n{80*'-'}\"\n",
    "    print(s)\n",
    "    if is_nb():\n",
    "        exit(keep_kernel=True)\n",
    "    else:\n",
    "        exit()\n",
    "elif len(data_files) > 1:\n",
    "    s = f\"{80*'-'}\\nMore than one file was found in the \"\n",
    "    s += f\"'{data_path.name}' folder.\\nPlease put your single data file there \"\n",
    "    s += f\"and rerun the code.\\n{80*'-'}\"\n",
    "    print(s)\n",
    "    if is_nb():\n",
    "        exit(keep_kernel=True)\n",
    "    else:\n",
    "        exit()\n",
    "else:\n",
    "    data_file = data_files[0]"
   ]
  },
  {
   "attachments": {},
   "cell_type": "markdown",
   "metadata": {},
   "source": [
    "Creating output paths if not already existing."
   ]
  },
  {
   "cell_type": "code",
   "execution_count": null,
   "metadata": {},
   "outputs": [],
   "source": [
    "output_folders = [\"png\", \"pdf\", \"svg\", \"txt\"]\n",
    "output_paths = [Path.cwd() / folder for folder in output_folders]\n",
    "plot_folders = [e for e in output_folders if not e == \"txt\"]\n",
    "plot_paths = [p for p in output_paths if not p.name == \"txt\"]\n",
    "for p in output_paths:\n",
    "    if not p.exists():\n",
    "        p.mkdir()\n",
    "txt_path = Path.cwd() / \"txt\""
   ]
  },
  {
   "attachments": {},
   "cell_type": "markdown",
   "metadata": {},
   "source": [
    "Reading data into Pandas dataframe (df), renaming dataframe keys, calculating \n",
    "state of charge ($x$) and adding it to df before plotting and writing to `.txt`\n",
    "file."
   ]
  },
  {
   "cell_type": "code",
   "execution_count": null,
   "metadata": {},
   "outputs": [],
   "source": [
    "print(f\"{80*'-'}\\nSample and experimental information used...\")\n",
    "for k, v in D_SAMPLE.items():\n",
    "      if len(k) < 8:\n",
    "            print(f\"\\t{k}\\t\\t{v}\")\n",
    "      else:\n",
    "            print(f\"\\t{k}\\t{v}\")\n",
    "print(f\"{80*'-'}\\nWorking on: {data_file.name}\\n{80*'-'}\\nLoading data into \"\n",
    "      f\"dataframe...\")\n",
    "df = pd.read_csv(data_file, delimiter=\"\\t\", header=0)\n",
    "print(f\"Done loading data into dataframe.\\n{80*'-'}\\nUpdating dataframe \"\n",
    "      f\"keys...\")\n",
    "df = df_keys_update(df, D_ECHEM_LABELS)\n",
    "print(f\"Done updating dataframe keys.\\n{80*'-'}\\nCalculating state of charge \"\n",
    "      f\"(x)...\")\n",
    "df[\"x\"] = x_calculate(df, D_SAMPLE)\n",
    "print(f\"Done calculating state of charge (x).\\n{80*'-'}\\nPlotting voltage as a \"\n",
    "      f\"function of state of charge...\")\n",
    "plot(df, D_SAMPLE, data_file.stem, plot_paths)\n",
    "print(f\"Done plotting voltage as a function of state of charge.\\nPlease see \"\n",
    "      f\"the {plot_folders} folders.\\n{80*'-'}\\nWriting .txt file...\")\n",
    "write(df, D_ECHEM_LABELS, data_file.name, txt_path)\n",
    "print(f\"Done writing .txt file.\\nPlease see the '{txt_path.name}' folder.\\n\"\n",
    "      f\"{80*'-'}\\nProgram done.\")"
   ]
  }
 ],
 "metadata": {
  "kernelspec": {
   "display_name": "py311",
   "language": "python",
   "name": "python3"
  },
  "language_info": {
   "codemirror_mode": {
    "name": "ipython",
    "version": 3
   },
   "file_extension": ".py",
   "mimetype": "text/x-python",
   "name": "python",
   "nbconvert_exporter": "python",
   "pygments_lexer": "ipython3",
   "version": "3.11.3"
  },
  "orig_nbformat": 4
 },
 "nbformat": 4,
 "nbformat_minor": 2
}
